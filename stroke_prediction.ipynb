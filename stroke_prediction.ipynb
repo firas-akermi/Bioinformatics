{
 "cells": [
  {
   "cell_type": "markdown",
   "id": "17cbfb73",
   "metadata": {},
   "source": [
    "# importing libraries"
   ]
  },
  {
   "cell_type": "code",
   "execution_count": 1,
   "id": "07df7621",
   "metadata": {},
   "outputs": [],
   "source": [
    "import pandas as pd\n",
    "import matplotlib.pyplot as plt\n",
    "import seaborn as sns \n",
    "from scipy import stats\n",
    "import numpy as np"
   ]
  },
  {
   "cell_type": "markdown",
   "id": "736b5b1e",
   "metadata": {},
   "source": [
    "# EDA"
   ]
  },
  {
   "cell_type": "code",
   "execution_count": 2,
   "id": "07ecc947",
   "metadata": {},
   "outputs": [],
   "source": [
    "data = pd.read_table('data/healthcare-dataset-stroke-data.csv',sep=',')"
   ]
  },
  {
   "cell_type": "code",
   "execution_count": 3,
   "id": "6c0e70ad",
   "metadata": {},
   "outputs": [
    {
     "data": {
      "text/html": [
       "<div>\n",
       "<style scoped>\n",
       "    .dataframe tbody tr th:only-of-type {\n",
       "        vertical-align: middle;\n",
       "    }\n",
       "\n",
       "    .dataframe tbody tr th {\n",
       "        vertical-align: top;\n",
       "    }\n",
       "\n",
       "    .dataframe thead th {\n",
       "        text-align: right;\n",
       "    }\n",
       "</style>\n",
       "<table border=\"1\" class=\"dataframe\">\n",
       "  <thead>\n",
       "    <tr style=\"text-align: right;\">\n",
       "      <th></th>\n",
       "      <th>id</th>\n",
       "      <th>gender</th>\n",
       "      <th>age</th>\n",
       "      <th>hypertension</th>\n",
       "      <th>heart_disease</th>\n",
       "      <th>ever_married</th>\n",
       "      <th>work_type</th>\n",
       "      <th>Residence_type</th>\n",
       "      <th>avg_glucose_level</th>\n",
       "      <th>bmi</th>\n",
       "      <th>smoking_status</th>\n",
       "      <th>stroke</th>\n",
       "    </tr>\n",
       "  </thead>\n",
       "  <tbody>\n",
       "    <tr>\n",
       "      <th>0</th>\n",
       "      <td>9046</td>\n",
       "      <td>Male</td>\n",
       "      <td>67.0</td>\n",
       "      <td>0</td>\n",
       "      <td>1</td>\n",
       "      <td>Yes</td>\n",
       "      <td>Private</td>\n",
       "      <td>Urban</td>\n",
       "      <td>228.69</td>\n",
       "      <td>36.6</td>\n",
       "      <td>formerly smoked</td>\n",
       "      <td>1</td>\n",
       "    </tr>\n",
       "    <tr>\n",
       "      <th>1</th>\n",
       "      <td>51676</td>\n",
       "      <td>Female</td>\n",
       "      <td>61.0</td>\n",
       "      <td>0</td>\n",
       "      <td>0</td>\n",
       "      <td>Yes</td>\n",
       "      <td>Self-employed</td>\n",
       "      <td>Rural</td>\n",
       "      <td>202.21</td>\n",
       "      <td>NaN</td>\n",
       "      <td>never smoked</td>\n",
       "      <td>1</td>\n",
       "    </tr>\n",
       "  </tbody>\n",
       "</table>\n",
       "</div>"
      ],
      "text/plain": [
       "      id  gender   age  hypertension  heart_disease ever_married  \\\n",
       "0   9046    Male  67.0             0              1          Yes   \n",
       "1  51676  Female  61.0             0              0          Yes   \n",
       "\n",
       "       work_type Residence_type  avg_glucose_level   bmi   smoking_status  \\\n",
       "0        Private          Urban             228.69  36.6  formerly smoked   \n",
       "1  Self-employed          Rural             202.21   NaN     never smoked   \n",
       "\n",
       "   stroke  \n",
       "0       1  \n",
       "1       1  "
      ]
     },
     "execution_count": 3,
     "metadata": {},
     "output_type": "execute_result"
    }
   ],
   "source": [
    "data.head(2)"
   ]
  },
  {
   "cell_type": "code",
   "execution_count": 4,
   "id": "30e29a66",
   "metadata": {},
   "outputs": [
    {
     "data": {
      "text/plain": [
       "(5110, 12)"
      ]
     },
     "execution_count": 4,
     "metadata": {},
     "output_type": "execute_result"
    }
   ],
   "source": [
    "data.shape"
   ]
  },
  {
   "cell_type": "code",
   "execution_count": 5,
   "id": "5eff9c24",
   "metadata": {},
   "outputs": [
    {
     "data": {
      "text/html": [
       "<div>\n",
       "<style scoped>\n",
       "    .dataframe tbody tr th:only-of-type {\n",
       "        vertical-align: middle;\n",
       "    }\n",
       "\n",
       "    .dataframe tbody tr th {\n",
       "        vertical-align: top;\n",
       "    }\n",
       "\n",
       "    .dataframe thead th {\n",
       "        text-align: right;\n",
       "    }\n",
       "</style>\n",
       "<table border=\"1\" class=\"dataframe\">\n",
       "  <thead>\n",
       "    <tr style=\"text-align: right;\">\n",
       "      <th></th>\n",
       "      <th>id</th>\n",
       "      <th>age</th>\n",
       "      <th>hypertension</th>\n",
       "      <th>heart_disease</th>\n",
       "      <th>avg_glucose_level</th>\n",
       "      <th>bmi</th>\n",
       "      <th>stroke</th>\n",
       "    </tr>\n",
       "  </thead>\n",
       "  <tbody>\n",
       "    <tr>\n",
       "      <th>count</th>\n",
       "      <td>5110.000000</td>\n",
       "      <td>5110.000000</td>\n",
       "      <td>5110.000000</td>\n",
       "      <td>5110.000000</td>\n",
       "      <td>5110.000000</td>\n",
       "      <td>4909.000000</td>\n",
       "      <td>5110.000000</td>\n",
       "    </tr>\n",
       "    <tr>\n",
       "      <th>mean</th>\n",
       "      <td>36517.829354</td>\n",
       "      <td>43.226614</td>\n",
       "      <td>0.097456</td>\n",
       "      <td>0.054012</td>\n",
       "      <td>106.147677</td>\n",
       "      <td>28.893237</td>\n",
       "      <td>0.048728</td>\n",
       "    </tr>\n",
       "    <tr>\n",
       "      <th>std</th>\n",
       "      <td>21161.721625</td>\n",
       "      <td>22.612647</td>\n",
       "      <td>0.296607</td>\n",
       "      <td>0.226063</td>\n",
       "      <td>45.283560</td>\n",
       "      <td>7.854067</td>\n",
       "      <td>0.215320</td>\n",
       "    </tr>\n",
       "    <tr>\n",
       "      <th>min</th>\n",
       "      <td>67.000000</td>\n",
       "      <td>0.080000</td>\n",
       "      <td>0.000000</td>\n",
       "      <td>0.000000</td>\n",
       "      <td>55.120000</td>\n",
       "      <td>10.300000</td>\n",
       "      <td>0.000000</td>\n",
       "    </tr>\n",
       "    <tr>\n",
       "      <th>25%</th>\n",
       "      <td>17741.250000</td>\n",
       "      <td>25.000000</td>\n",
       "      <td>0.000000</td>\n",
       "      <td>0.000000</td>\n",
       "      <td>77.245000</td>\n",
       "      <td>23.500000</td>\n",
       "      <td>0.000000</td>\n",
       "    </tr>\n",
       "    <tr>\n",
       "      <th>50%</th>\n",
       "      <td>36932.000000</td>\n",
       "      <td>45.000000</td>\n",
       "      <td>0.000000</td>\n",
       "      <td>0.000000</td>\n",
       "      <td>91.885000</td>\n",
       "      <td>28.100000</td>\n",
       "      <td>0.000000</td>\n",
       "    </tr>\n",
       "    <tr>\n",
       "      <th>75%</th>\n",
       "      <td>54682.000000</td>\n",
       "      <td>61.000000</td>\n",
       "      <td>0.000000</td>\n",
       "      <td>0.000000</td>\n",
       "      <td>114.090000</td>\n",
       "      <td>33.100000</td>\n",
       "      <td>0.000000</td>\n",
       "    </tr>\n",
       "    <tr>\n",
       "      <th>max</th>\n",
       "      <td>72940.000000</td>\n",
       "      <td>82.000000</td>\n",
       "      <td>1.000000</td>\n",
       "      <td>1.000000</td>\n",
       "      <td>271.740000</td>\n",
       "      <td>97.600000</td>\n",
       "      <td>1.000000</td>\n",
       "    </tr>\n",
       "  </tbody>\n",
       "</table>\n",
       "</div>"
      ],
      "text/plain": [
       "                 id          age  hypertension  heart_disease  \\\n",
       "count   5110.000000  5110.000000   5110.000000    5110.000000   \n",
       "mean   36517.829354    43.226614      0.097456       0.054012   \n",
       "std    21161.721625    22.612647      0.296607       0.226063   \n",
       "min       67.000000     0.080000      0.000000       0.000000   \n",
       "25%    17741.250000    25.000000      0.000000       0.000000   \n",
       "50%    36932.000000    45.000000      0.000000       0.000000   \n",
       "75%    54682.000000    61.000000      0.000000       0.000000   \n",
       "max    72940.000000    82.000000      1.000000       1.000000   \n",
       "\n",
       "       avg_glucose_level          bmi       stroke  \n",
       "count        5110.000000  4909.000000  5110.000000  \n",
       "mean          106.147677    28.893237     0.048728  \n",
       "std            45.283560     7.854067     0.215320  \n",
       "min            55.120000    10.300000     0.000000  \n",
       "25%            77.245000    23.500000     0.000000  \n",
       "50%            91.885000    28.100000     0.000000  \n",
       "75%           114.090000    33.100000     0.000000  \n",
       "max           271.740000    97.600000     1.000000  "
      ]
     },
     "execution_count": 5,
     "metadata": {},
     "output_type": "execute_result"
    }
   ],
   "source": [
    "data.describe()"
   ]
  },
  {
   "cell_type": "markdown",
   "id": "d28e470f",
   "metadata": {},
   "source": [
    "Missing Values"
   ]
  },
  {
   "cell_type": "code",
   "execution_count": 6,
   "id": "776dc2b7",
   "metadata": {},
   "outputs": [
    {
     "data": {
      "text/plain": [
       "id                     0\n",
       "gender                 0\n",
       "age                    0\n",
       "hypertension           0\n",
       "heart_disease          0\n",
       "ever_married           0\n",
       "work_type              0\n",
       "Residence_type         0\n",
       "avg_glucose_level      0\n",
       "bmi                  201\n",
       "smoking_status         0\n",
       "stroke                 0\n",
       "dtype: int64"
      ]
     },
     "execution_count": 6,
     "metadata": {},
     "output_type": "execute_result"
    }
   ],
   "source": [
    "data.isnull().sum()"
   ]
  },
  {
   "cell_type": "code",
   "execution_count": 7,
   "id": "0e99bafe",
   "metadata": {},
   "outputs": [],
   "source": [
    "data = data.fillna(data[\"bmi\"].median())"
   ]
  },
  {
   "cell_type": "markdown",
   "id": "e8eed13d",
   "metadata": {},
   "source": [
    "Pivot tables"
   ]
  },
  {
   "cell_type": "code",
   "execution_count": 8,
   "id": "8cb354ad",
   "metadata": {},
   "outputs": [],
   "source": [
    "def pivot(data,values,index,color):\n",
    "    pivot_table=pd.pivot_table(data, values=values, \n",
    "                             index=index,\n",
    "                             aggfunc='count')\n",
    "    pivot_table = pivot_table.style.background_gradient(sns.light_palette(color, as_cmap=True))\n",
    "    return pivot_table"
   ]
  },
  {
   "cell_type": "code",
   "execution_count": 9,
   "id": "14038f9a",
   "metadata": {},
   "outputs": [
    {
     "data": {
      "text/html": [
       "<style type=\"text/css\">\n",
       "#T_336ce_row0_col0 {\n",
       "  background-color: #f97979;\n",
       "  color: #f1f1f1;\n",
       "}\n",
       "#T_336ce_row1_col0 {\n",
       "  background-color: #ff0000;\n",
       "  color: #f1f1f1;\n",
       "}\n",
       "#T_336ce_row2_col0 {\n",
       "  background-color: #f79595;\n",
       "  color: #000000;\n",
       "}\n",
       "#T_336ce_row3_col0 {\n",
       "  background-color: #fb4e4e;\n",
       "  color: #f1f1f1;\n",
       "}\n",
       "#T_336ce_row4_col0 {\n",
       "  background-color: #f3f0f0;\n",
       "  color: #000000;\n",
       "}\n",
       "</style>\n",
       "<table id=\"T_336ce\">\n",
       "  <thead>\n",
       "    <tr>\n",
       "      <th class=\"blank\" >&nbsp;</th>\n",
       "      <th class=\"blank level0\" >&nbsp;</th>\n",
       "      <th id=\"T_336ce_level0_col0\" class=\"col_heading level0 col0\" >stroke</th>\n",
       "    </tr>\n",
       "    <tr>\n",
       "      <th class=\"index_name level0\" >gender</th>\n",
       "      <th class=\"index_name level1\" >ever_married</th>\n",
       "      <th class=\"blank col0\" >&nbsp;</th>\n",
       "    </tr>\n",
       "  </thead>\n",
       "  <tbody>\n",
       "    <tr>\n",
       "      <th id=\"T_336ce_level0_row0\" class=\"row_heading level0 row0\" rowspan=\"2\">Female</th>\n",
       "      <th id=\"T_336ce_level1_row0\" class=\"row_heading level1 row0\" >No</th>\n",
       "      <td id=\"T_336ce_row0_col0\" class=\"data row0 col0\" >993</td>\n",
       "    </tr>\n",
       "    <tr>\n",
       "      <th id=\"T_336ce_level1_row1\" class=\"row_heading level1 row1\" >Yes</th>\n",
       "      <td id=\"T_336ce_row1_col0\" class=\"data row1 col0\" >2001</td>\n",
       "    </tr>\n",
       "    <tr>\n",
       "      <th id=\"T_336ce_level0_row2\" class=\"row_heading level0 row2\" rowspan=\"2\">Male</th>\n",
       "      <th id=\"T_336ce_level1_row2\" class=\"row_heading level1 row2\" >No</th>\n",
       "      <td id=\"T_336ce_row2_col0\" class=\"data row2 col0\" >763</td>\n",
       "    </tr>\n",
       "    <tr>\n",
       "      <th id=\"T_336ce_level1_row3\" class=\"row_heading level1 row3\" >Yes</th>\n",
       "      <td id=\"T_336ce_row3_col0\" class=\"data row3 col0\" >1352</td>\n",
       "    </tr>\n",
       "    <tr>\n",
       "      <th id=\"T_336ce_level0_row4\" class=\"row_heading level0 row4\" >Other</th>\n",
       "      <th id=\"T_336ce_level1_row4\" class=\"row_heading level1 row4\" >No</th>\n",
       "      <td id=\"T_336ce_row4_col0\" class=\"data row4 col0\" >1</td>\n",
       "    </tr>\n",
       "  </tbody>\n",
       "</table>\n"
      ],
      "text/plain": [
       "<pandas.io.formats.style.Styler at 0x7fd052e422e0>"
      ]
     },
     "execution_count": 9,
     "metadata": {},
     "output_type": "execute_result"
    }
   ],
   "source": [
    "gender_status= pivot(data,'stroke',['gender', 'ever_married'],'red')\n",
    "gender_status"
   ]
  },
  {
   "cell_type": "code",
   "execution_count": 10,
   "id": "04f0b055",
   "metadata": {},
   "outputs": [
    {
     "data": {
      "text/html": [
       "<style type=\"text/css\">\n",
       "#T_48395_row0_col0 {\n",
       "  background-color: #f5c4c4;\n",
       "  color: #000000;\n",
       "}\n",
       "#T_48395_row1_col0 {\n",
       "  background-color: #ff0000;\n",
       "  color: #f1f1f1;\n",
       "}\n",
       "#T_48395_row2_col0 {\n",
       "  background-color: #f3f0f0;\n",
       "  color: #000000;\n",
       "}\n",
       "#T_48395_row3_col0 {\n",
       "  background-color: #f97e7e;\n",
       "  color: #f1f1f1;\n",
       "}\n",
       "</style>\n",
       "<table id=\"T_48395\">\n",
       "  <thead>\n",
       "    <tr>\n",
       "      <th class=\"blank\" >&nbsp;</th>\n",
       "      <th class=\"blank level0\" >&nbsp;</th>\n",
       "      <th id=\"T_48395_level0_col0\" class=\"col_heading level0 col0\" >stroke</th>\n",
       "    </tr>\n",
       "    <tr>\n",
       "      <th class=\"index_name level0\" >gender</th>\n",
       "      <th class=\"index_name level1\" >ever_married</th>\n",
       "      <th class=\"blank col0\" >&nbsp;</th>\n",
       "    </tr>\n",
       "  </thead>\n",
       "  <tbody>\n",
       "    <tr>\n",
       "      <th id=\"T_48395_level0_row0\" class=\"row_heading level0 row0\" rowspan=\"2\">Female</th>\n",
       "      <th id=\"T_48395_level1_row0\" class=\"row_heading level1 row0\" >No</th>\n",
       "      <td id=\"T_48395_row0_col0\" class=\"data row0 col0\" >993</td>\n",
       "    </tr>\n",
       "    <tr>\n",
       "      <th id=\"T_48395_level1_row1\" class=\"row_heading level1 row1\" >Yes</th>\n",
       "      <td id=\"T_48395_row1_col0\" class=\"data row1 col0\" >2001</td>\n",
       "    </tr>\n",
       "    <tr>\n",
       "      <th id=\"T_48395_level0_row2\" class=\"row_heading level0 row2\" rowspan=\"2\">Male</th>\n",
       "      <th id=\"T_48395_level1_row2\" class=\"row_heading level1 row2\" >No</th>\n",
       "      <td id=\"T_48395_row2_col0\" class=\"data row2 col0\" >763</td>\n",
       "    </tr>\n",
       "    <tr>\n",
       "      <th id=\"T_48395_level1_row3\" class=\"row_heading level1 row3\" >Yes</th>\n",
       "      <td id=\"T_48395_row3_col0\" class=\"data row3 col0\" >1352</td>\n",
       "    </tr>\n",
       "  </tbody>\n",
       "</table>\n"
      ],
      "text/plain": [
       "<pandas.io.formats.style.Styler at 0x7fd03be18820>"
      ]
     },
     "execution_count": 10,
     "metadata": {},
     "output_type": "execute_result"
    }
   ],
   "source": [
    "data=data[data.gender!='Other']\n",
    "gender_status= pivot(data,'stroke',['gender', 'ever_married'],'red')\n",
    "gender_status"
   ]
  },
  {
   "cell_type": "code",
   "execution_count": 11,
   "id": "eef22f40",
   "metadata": {},
   "outputs": [
    {
     "data": {
      "text/html": [
       "<style type=\"text/css\">\n",
       "#T_b5a92_row0_col0 {\n",
       "  background-color: #008000;\n",
       "  color: #f1f1f1;\n",
       "}\n",
       "#T_b5a92_row1_col0 {\n",
       "  background-color: #e6f1e6;\n",
       "  color: #000000;\n",
       "}\n",
       "#T_b5a92_row2_col0 {\n",
       "  background-color: #4da64d;\n",
       "  color: #f1f1f1;\n",
       "}\n",
       "#T_b5a92_row3_col0 {\n",
       "  background-color: #ebf3eb;\n",
       "  color: #000000;\n",
       "}\n",
       "</style>\n",
       "<table id=\"T_b5a92\">\n",
       "  <thead>\n",
       "    <tr>\n",
       "      <th class=\"blank\" >&nbsp;</th>\n",
       "      <th class=\"blank level0\" >&nbsp;</th>\n",
       "      <th id=\"T_b5a92_level0_col0\" class=\"col_heading level0 col0\" >stroke</th>\n",
       "    </tr>\n",
       "    <tr>\n",
       "      <th class=\"index_name level0\" >gender</th>\n",
       "      <th class=\"index_name level1\" >hypertension</th>\n",
       "      <th class=\"blank col0\" >&nbsp;</th>\n",
       "    </tr>\n",
       "  </thead>\n",
       "  <tbody>\n",
       "    <tr>\n",
       "      <th id=\"T_b5a92_level0_row0\" class=\"row_heading level0 row0\" rowspan=\"2\">Female</th>\n",
       "      <th id=\"T_b5a92_level1_row0\" class=\"row_heading level1 row0\" >0</th>\n",
       "      <td id=\"T_b5a92_row0_col0\" class=\"data row0 col0\" >2718</td>\n",
       "    </tr>\n",
       "    <tr>\n",
       "      <th id=\"T_b5a92_level1_row1\" class=\"row_heading level1 row1\" >1</th>\n",
       "      <td id=\"T_b5a92_row1_col0\" class=\"data row1 col0\" >276</td>\n",
       "    </tr>\n",
       "    <tr>\n",
       "      <th id=\"T_b5a92_level0_row2\" class=\"row_heading level0 row2\" rowspan=\"2\">Male</th>\n",
       "      <th id=\"T_b5a92_level1_row2\" class=\"row_heading level1 row2\" >0</th>\n",
       "      <td id=\"T_b5a92_row2_col0\" class=\"data row2 col0\" >1893</td>\n",
       "    </tr>\n",
       "    <tr>\n",
       "      <th id=\"T_b5a92_level1_row3\" class=\"row_heading level1 row3\" >1</th>\n",
       "      <td id=\"T_b5a92_row3_col0\" class=\"data row3 col0\" >222</td>\n",
       "    </tr>\n",
       "  </tbody>\n",
       "</table>\n"
      ],
      "text/plain": [
       "<pandas.io.formats.style.Styler at 0x7fd09021e9d0>"
      ]
     },
     "execution_count": 11,
     "metadata": {},
     "output_type": "execute_result"
    }
   ],
   "source": [
    "gender_tension=pivot(data,'stroke',['gender', 'hypertension'],'green')\n",
    "gender_tension"
   ]
  },
  {
   "cell_type": "code",
   "execution_count": 12,
   "id": "7a8270bd",
   "metadata": {},
   "outputs": [
    {
     "data": {
      "text/html": [
       "<style type=\"text/css\">\n",
       "#T_d44c4_row0_col0 {\n",
       "  background-color: #f5f5ad;\n",
       "  color: #000000;\n",
       "}\n",
       "#T_d44c4_row1_col0, #T_d44c4_row6_col0 {\n",
       "  background-color: #f2f2dd;\n",
       "  color: #000000;\n",
       "}\n",
       "#T_d44c4_row2_col0 {\n",
       "  background-color: #ffff00;\n",
       "  color: #000000;\n",
       "}\n",
       "#T_d44c4_row3_col0 {\n",
       "  background-color: #f6f69f;\n",
       "  color: #000000;\n",
       "}\n",
       "#T_d44c4_row4_col0 {\n",
       "  background-color: #f4f4b5;\n",
       "  color: #000000;\n",
       "}\n",
       "#T_d44c4_row5_col0 {\n",
       "  background-color: #f4f4be;\n",
       "  color: #000000;\n",
       "}\n",
       "#T_d44c4_row7_col0 {\n",
       "  background-color: #fbfb4a;\n",
       "  color: #000000;\n",
       "}\n",
       "#T_d44c4_row8_col0 {\n",
       "  background-color: #f4f4b7;\n",
       "  color: #000000;\n",
       "}\n",
       "#T_d44c4_row9_col0 {\n",
       "  background-color: #f5f5b1;\n",
       "  color: #000000;\n",
       "}\n",
       "</style>\n",
       "<table id=\"T_d44c4\">\n",
       "  <thead>\n",
       "    <tr>\n",
       "      <th class=\"blank\" >&nbsp;</th>\n",
       "      <th class=\"blank level0\" >&nbsp;</th>\n",
       "      <th id=\"T_d44c4_level0_col0\" class=\"col_heading level0 col0\" >stroke</th>\n",
       "    </tr>\n",
       "    <tr>\n",
       "      <th class=\"index_name level0\" >gender</th>\n",
       "      <th class=\"index_name level1\" >work_type</th>\n",
       "      <th class=\"blank col0\" >&nbsp;</th>\n",
       "    </tr>\n",
       "  </thead>\n",
       "  <tbody>\n",
       "    <tr>\n",
       "      <th id=\"T_d44c4_level0_row0\" class=\"row_heading level0 row0\" rowspan=\"5\">Female</th>\n",
       "      <th id=\"T_d44c4_level1_row0\" class=\"row_heading level1 row0\" >Govt_job</th>\n",
       "      <td id=\"T_d44c4_row0_col0\" class=\"data row0 col0\" >399</td>\n",
       "    </tr>\n",
       "    <tr>\n",
       "      <th id=\"T_d44c4_level1_row1\" class=\"row_heading level1 row1\" >Never_worked</th>\n",
       "      <td id=\"T_d44c4_row1_col0\" class=\"data row1 col0\" >11</td>\n",
       "    </tr>\n",
       "    <tr>\n",
       "      <th id=\"T_d44c4_level1_row2\" class=\"row_heading level1 row2\" >Private</th>\n",
       "      <td id=\"T_d44c4_row2_col0\" class=\"data row2 col0\" >1754</td>\n",
       "    </tr>\n",
       "    <tr>\n",
       "      <th id=\"T_d44c4_level1_row3\" class=\"row_heading level1 row3\" >Self-employed</th>\n",
       "      <td id=\"T_d44c4_row3_col0\" class=\"data row3 col0\" >504</td>\n",
       "    </tr>\n",
       "    <tr>\n",
       "      <th id=\"T_d44c4_level1_row4\" class=\"row_heading level1 row4\" >children</th>\n",
       "      <td id=\"T_d44c4_row4_col0\" class=\"data row4 col0\" >326</td>\n",
       "    </tr>\n",
       "    <tr>\n",
       "      <th id=\"T_d44c4_level0_row5\" class=\"row_heading level0 row5\" rowspan=\"5\">Male</th>\n",
       "      <th id=\"T_d44c4_level1_row5\" class=\"row_heading level1 row5\" >Govt_job</th>\n",
       "      <td id=\"T_d44c4_row5_col0\" class=\"data row5 col0\" >258</td>\n",
       "    </tr>\n",
       "    <tr>\n",
       "      <th id=\"T_d44c4_level1_row6\" class=\"row_heading level1 row6\" >Never_worked</th>\n",
       "      <td id=\"T_d44c4_row6_col0\" class=\"data row6 col0\" >11</td>\n",
       "    </tr>\n",
       "    <tr>\n",
       "      <th id=\"T_d44c4_level1_row7\" class=\"row_heading level1 row7\" >Private</th>\n",
       "      <td id=\"T_d44c4_row7_col0\" class=\"data row7 col0\" >1170</td>\n",
       "    </tr>\n",
       "    <tr>\n",
       "      <th id=\"T_d44c4_level1_row8\" class=\"row_heading level1 row8\" >Self-employed</th>\n",
       "      <td id=\"T_d44c4_row8_col0\" class=\"data row8 col0\" >315</td>\n",
       "    </tr>\n",
       "    <tr>\n",
       "      <th id=\"T_d44c4_level1_row9\" class=\"row_heading level1 row9\" >children</th>\n",
       "      <td id=\"T_d44c4_row9_col0\" class=\"data row9 col0\" >361</td>\n",
       "    </tr>\n",
       "  </tbody>\n",
       "</table>\n"
      ],
      "text/plain": [
       "<pandas.io.formats.style.Styler at 0x7fd03bee1250>"
      ]
     },
     "execution_count": 12,
     "metadata": {},
     "output_type": "execute_result"
    }
   ],
   "source": [
    "gender_work=pivot(data,'stroke',['gender', 'work_type'],'yellow')\n",
    "gender_work"
   ]
  },
  {
   "cell_type": "code",
   "execution_count": 13,
   "id": "9cec74cc",
   "metadata": {},
   "outputs": [
    {
     "data": {
      "text/html": [
       "<style type=\"text/css\">\n",
       "#T_3f804_row0_col0 {\n",
       "  background-color: #6a6ab9;\n",
       "  color: #f1f1f1;\n",
       "}\n",
       "#T_3f804_row1_col0 {\n",
       "  background-color: #cbcbe2;\n",
       "  color: #000000;\n",
       "}\n",
       "#T_3f804_row2_col0 {\n",
       "  background-color: #00008b;\n",
       "  color: #f1f1f1;\n",
       "}\n",
       "#T_3f804_row3_col0 {\n",
       "  background-color: #d1d1e5;\n",
       "  color: #000000;\n",
       "}\n",
       "#T_3f804_row4_col0 {\n",
       "  background-color: #8c8cc8;\n",
       "  color: #f1f1f1;\n",
       "}\n",
       "#T_3f804_row5_col0 {\n",
       "  background-color: #dedeeb;\n",
       "  color: #000000;\n",
       "}\n",
       "#T_3f804_row6_col0 {\n",
       "  background-color: #9999cd;\n",
       "  color: #f1f1f1;\n",
       "}\n",
       "#T_3f804_row7_col0 {\n",
       "  background-color: #f0f0f3;\n",
       "  color: #000000;\n",
       "}\n",
       "</style>\n",
       "<table id=\"T_3f804\">\n",
       "  <thead>\n",
       "    <tr>\n",
       "      <th class=\"blank\" >&nbsp;</th>\n",
       "      <th class=\"blank level0\" >&nbsp;</th>\n",
       "      <th id=\"T_3f804_level0_col0\" class=\"col_heading level0 col0\" >stroke</th>\n",
       "    </tr>\n",
       "    <tr>\n",
       "      <th class=\"index_name level0\" >gender</th>\n",
       "      <th class=\"index_name level1\" >smoking_status</th>\n",
       "      <th class=\"blank col0\" >&nbsp;</th>\n",
       "    </tr>\n",
       "  </thead>\n",
       "  <tbody>\n",
       "    <tr>\n",
       "      <th id=\"T_3f804_level0_row0\" class=\"row_heading level0 row0\" rowspan=\"4\">Female</th>\n",
       "      <th id=\"T_3f804_level1_row0\" class=\"row_heading level1 row0\" >Unknown</th>\n",
       "      <td id=\"T_3f804_row0_col0\" class=\"data row0 col0\" >836</td>\n",
       "    </tr>\n",
       "    <tr>\n",
       "      <th id=\"T_3f804_level1_row1\" class=\"row_heading level1 row1\" >formerly smoked</th>\n",
       "      <td id=\"T_3f804_row1_col0\" class=\"data row1 col0\" >477</td>\n",
       "    </tr>\n",
       "    <tr>\n",
       "      <th id=\"T_3f804_level1_row2\" class=\"row_heading level1 row2\" >never smoked</th>\n",
       "      <td id=\"T_3f804_row2_col0\" class=\"data row2 col0\" >1229</td>\n",
       "    </tr>\n",
       "    <tr>\n",
       "      <th id=\"T_3f804_level1_row3\" class=\"row_heading level1 row3\" >smokes</th>\n",
       "      <td id=\"T_3f804_row3_col0\" class=\"data row3 col0\" >452</td>\n",
       "    </tr>\n",
       "    <tr>\n",
       "      <th id=\"T_3f804_level0_row4\" class=\"row_heading level0 row4\" rowspan=\"4\">Male</th>\n",
       "      <th id=\"T_3f804_level1_row4\" class=\"row_heading level1 row4\" >Unknown</th>\n",
       "      <td id=\"T_3f804_row4_col0\" class=\"data row4 col0\" >708</td>\n",
       "    </tr>\n",
       "    <tr>\n",
       "      <th id=\"T_3f804_level1_row5\" class=\"row_heading level1 row5\" >formerly smoked</th>\n",
       "      <td id=\"T_3f804_row5_col0\" class=\"data row5 col0\" >407</td>\n",
       "    </tr>\n",
       "    <tr>\n",
       "      <th id=\"T_3f804_level1_row6\" class=\"row_heading level1 row6\" >never smoked</th>\n",
       "      <td id=\"T_3f804_row6_col0\" class=\"data row6 col0\" >663</td>\n",
       "    </tr>\n",
       "    <tr>\n",
       "      <th id=\"T_3f804_level1_row7\" class=\"row_heading level1 row7\" >smokes</th>\n",
       "      <td id=\"T_3f804_row7_col0\" class=\"data row7 col0\" >337</td>\n",
       "    </tr>\n",
       "  </tbody>\n",
       "</table>\n"
      ],
      "text/plain": [
       "<pandas.io.formats.style.Styler at 0x7fd03be18d00>"
      ]
     },
     "execution_count": 13,
     "metadata": {},
     "output_type": "execute_result"
    }
   ],
   "source": [
    "gender_smoke=pivot(data,'stroke',['gender', 'smoking_status'],'darkblue')\n",
    "gender_smoke"
   ]
  },
  {
   "cell_type": "code",
   "execution_count": 14,
   "id": "2dd22a87",
   "metadata": {},
   "outputs": [
    {
     "data": {
      "text/html": [
       "<style type=\"text/css\">\n",
       "#T_05267_row0_col0 {\n",
       "  background-color: #8f208f;\n",
       "  color: #f1f1f1;\n",
       "}\n",
       "#T_05267_row1_col0 {\n",
       "  background-color: #800080;\n",
       "  color: #f1f1f1;\n",
       "}\n",
       "#T_05267_row2_col0 {\n",
       "  background-color: #f3f0f3;\n",
       "  color: #000000;\n",
       "}\n",
       "#T_05267_row3_col0 {\n",
       "  background-color: #eee6ee;\n",
       "  color: #000000;\n",
       "}\n",
       "</style>\n",
       "<table id=\"T_05267\">\n",
       "  <thead>\n",
       "    <tr>\n",
       "      <th class=\"blank\" >&nbsp;</th>\n",
       "      <th class=\"blank level0\" >&nbsp;</th>\n",
       "      <th id=\"T_05267_level0_col0\" class=\"col_heading level0 col0\" >stroke</th>\n",
       "    </tr>\n",
       "    <tr>\n",
       "      <th class=\"index_name level0\" >gender</th>\n",
       "      <th class=\"index_name level1\" >Residence_type</th>\n",
       "      <th class=\"blank col0\" >&nbsp;</th>\n",
       "    </tr>\n",
       "  </thead>\n",
       "  <tbody>\n",
       "    <tr>\n",
       "      <th id=\"T_05267_level0_row0\" class=\"row_heading level0 row0\" rowspan=\"2\">Female</th>\n",
       "      <th id=\"T_05267_level1_row0\" class=\"row_heading level1 row0\" >Rural</th>\n",
       "      <td id=\"T_05267_row0_col0\" class=\"data row0 col0\" >1465</td>\n",
       "    </tr>\n",
       "    <tr>\n",
       "      <th id=\"T_05267_level1_row1\" class=\"row_heading level1 row1\" >Urban</th>\n",
       "      <td id=\"T_05267_row1_col0\" class=\"data row1 col0\" >1529</td>\n",
       "    </tr>\n",
       "    <tr>\n",
       "      <th id=\"T_05267_level0_row2\" class=\"row_heading level0 row2\" rowspan=\"2\">Male</th>\n",
       "      <th id=\"T_05267_level1_row2\" class=\"row_heading level1 row2\" >Rural</th>\n",
       "      <td id=\"T_05267_row2_col0\" class=\"data row2 col0\" >1048</td>\n",
       "    </tr>\n",
       "    <tr>\n",
       "      <th id=\"T_05267_level1_row3\" class=\"row_heading level1 row3\" >Urban</th>\n",
       "      <td id=\"T_05267_row3_col0\" class=\"data row3 col0\" >1067</td>\n",
       "    </tr>\n",
       "  </tbody>\n",
       "</table>\n"
      ],
      "text/plain": [
       "<pandas.io.formats.style.Styler at 0x7fd03bd81730>"
      ]
     },
     "execution_count": 14,
     "metadata": {},
     "output_type": "execute_result"
    }
   ],
   "source": [
    "gender_residence=pivot(data,'stroke',['gender', 'Residence_type'],'purple')\n",
    "gender_residence"
   ]
  },
  {
   "cell_type": "code",
   "execution_count": 15,
   "id": "06869912",
   "metadata": {},
   "outputs": [
    {
     "data": {
      "image/png": "[encoded data removed]",
      "text/plain": [
       "<Figure size 792x648 with 2 Axes>"
      ]
     },
     "metadata": {
      "needs_background": "light"
     },
     "output_type": "display_data"
    }
   ],
   "source": [
    "correlation = data.corr()\n",
    "def heatmap(corr_matrix):\n",
    "    sns.set(style=\"dark\")\n",
    "    f, ax = plt.subplots(figsize=(11, 9))\n",
    "    mask = np.zeros_like(corr_matrix, dtype=bool)\n",
    "    mask[np.triu_indices_from(mask)] = True \n",
    "    # Generate a custom diverging colormap\n",
    "    cmap = sns.diverging_palette(20, 5, as_cmap=True)\n",
    "    sns.heatmap(corr_matrix, mask=mask, cmap=cmap, ax=ax)\n",
    "heatmap(correlation)"
   ]
  },
  {
   "cell_type": "markdown",
   "id": "3a31ada1",
   "metadata": {},
   "source": [
    "# Outliers "
   ]
  },
  {
   "cell_type": "code",
   "execution_count": 16,
   "id": "7db6b861",
   "metadata": {},
   "outputs": [],
   "source": [
    "def box_plot(data,x,y):\n",
    "    f, ax = plt.subplots(figsize=(6.5, 6.5))\n",
    "    sns.boxplot(x=x, y=y,\n",
    "                data=data, ax=ax)"
   ]
  },
  {
   "cell_type": "code",
   "execution_count": 17,
   "id": "6b2c5b5e",
   "metadata": {},
   "outputs": [
    {
     "data": {
      "image/png": "[encoded data removed]",
      "text/plain": [
       "<Figure size 468x468 with 1 Axes>"
      ]
     },
     "metadata": {
      "needs_background": "light"
     },
     "output_type": "display_data"
    }
   ],
   "source": [
    "box_plot(data,\"stroke\",\"age\")"
   ]
  },
  {
   "cell_type": "code",
   "execution_count": 18,
   "id": "09c3cca3",
   "metadata": {},
   "outputs": [],
   "source": [
    "def zscore(data):\n",
    "    global outliers\n",
    "    outliers = []\n",
    "    thres = 3\n",
    "    mean = np.mean(data)\n",
    "    std = np.std(data)\n",
    "    for i in data:\n",
    "        z_score = (i-mean)/std\n",
    "        if (np.abs(z_score) > thres):\n",
    "            outliers.append(i)\n",
    "    return outliers"
   ]
  },
  {
   "cell_type": "code",
   "execution_count": 19,
   "id": "13ab61e7",
   "metadata": {},
   "outputs": [
    {
     "name": "stdout",
     "output_type": "stream",
     "text": [
      "We have 0 outliers in age column\n"
     ]
    }
   ],
   "source": [
    "age_outliers=zscore(data['age'])\n",
    "print(\"We have {} outliers in age column\".format(len(age_outliers)))"
   ]
  },
  {
   "cell_type": "code",
   "execution_count": 20,
   "id": "1ecb6356",
   "metadata": {},
   "outputs": [
    {
     "data": {
      "image/png": "[encoded data removed]",
      "text/plain": [
       "<Figure size 468x468 with 1 Axes>"
      ]
     },
     "metadata": {
      "needs_background": "light"
     },
     "output_type": "display_data"
    }
   ],
   "source": [
    "box_plot(data,\"stroke\",\"avg_glucose_level\")"
   ]
  },
  {
   "cell_type": "code",
   "execution_count": 21,
   "id": "48704ad5",
   "metadata": {},
   "outputs": [
    {
     "name": "stdout",
     "output_type": "stream",
     "text": [
      "We have 49 outliers in avg_glucose_level column\n"
     ]
    }
   ],
   "source": [
    "avg_glucose_level_outliers = zscore(data['avg_glucose_level'])\n",
    "print(\"We have {} outliers in avg_glucose_level column\".format(len(avg_glucose_level_outliers)))"
   ]
  },
  {
   "cell_type": "code",
   "execution_count": 22,
   "id": "b8ebfa36",
   "metadata": {},
   "outputs": [
    {
     "data": {
      "image/png": "[encoded data removed]",
      "text/plain": [
       "<Figure size 468x468 with 1 Axes>"
      ]
     },
     "metadata": {
      "needs_background": "light"
     },
     "output_type": "display_data"
    }
   ],
   "source": [
    "box_plot(data,\"stroke\",\"bmi\")"
   ]
  },
  {
   "cell_type": "code",
   "execution_count": 23,
   "id": "a77797c8",
   "metadata": {},
   "outputs": [
    {
     "name": "stdout",
     "output_type": "stream",
     "text": [
      "We have 59 outliers in bmi column\n"
     ]
    }
   ],
   "source": [
    "bmi_outliers = zscore(data['bmi'])\n",
    "print(\"We have {} outliers in bmi column\".format(len(bmi_outliers)))"
   ]
  },
  {
   "cell_type": "code",
   "execution_count": 24,
   "id": "1e4f62e2",
   "metadata": {},
   "outputs": [],
   "source": [
    "def outlier_imputation(data,outliers):\n",
    "    median = np.median(data)\n",
    "    c=[]\n",
    "    for i in outliers:\n",
    "        c.append(np.where(data==i, median, data))\n",
    "    print(c)\n",
    "        "
   ]
  },
  {
   "cell_type": "code",
   "execution_count": 25,
   "id": "f24711af",
   "metadata": {},
   "outputs": [
    {
     "data": {
      "text/plain": [
       "91.88"
      ]
     },
     "execution_count": 25,
     "metadata": {},
     "output_type": "execute_result"
    }
   ],
   "source": [
    "np.median(data['avg_glucose_level'])"
   ]
  },
  {
   "cell_type": "code",
   "execution_count": 26,
   "id": "3406f2a0",
   "metadata": {},
   "outputs": [
    {
     "name": "stdout",
     "output_type": "stream",
     "text": [
      "[array([36.6, 28.1, 32.5, ..., 30.6, 25.6, 26.2]), array([36.6, 28.1, 32.5, ..., 30.6, 25.6, 26.2]), array([36.6, 28.1, 32.5, ..., 30.6, 25.6, 26.2]), array([36.6, 28.1, 32.5, ..., 30.6, 25.6, 26.2]), array([36.6, 28.1, 32.5, ..., 30.6, 25.6, 26.2]), array([36.6, 28.1, 32.5, ..., 30.6, 25.6, 26.2]), array([36.6, 28.1, 32.5, ..., 30.6, 25.6, 26.2]), array([36.6, 28.1, 32.5, ..., 30.6, 25.6, 26.2]), array([36.6, 28.1, 32.5, ..., 30.6, 25.6, 26.2]), array([36.6, 28.1, 32.5, ..., 30.6, 25.6, 26.2]), array([36.6, 28.1, 32.5, ..., 30.6, 25.6, 26.2]), array([36.6, 28.1, 32.5, ..., 30.6, 25.6, 26.2]), array([36.6, 28.1, 32.5, ..., 30.6, 25.6, 26.2]), array([36.6, 28.1, 32.5, ..., 30.6, 25.6, 26.2]), array([36.6, 28.1, 32.5, ..., 30.6, 25.6, 26.2]), array([36.6, 28.1, 32.5, ..., 30.6, 25.6, 26.2]), array([36.6, 28.1, 32.5, ..., 30.6, 25.6, 26.2]), array([36.6, 28.1, 32.5, ..., 30.6, 25.6, 26.2]), array([36.6, 28.1, 32.5, ..., 30.6, 25.6, 26.2]), array([36.6, 28.1, 32.5, ..., 30.6, 25.6, 26.2]), array([36.6, 28.1, 32.5, ..., 30.6, 25.6, 26.2]), array([36.6, 28.1, 32.5, ..., 30.6, 25.6, 26.2]), array([36.6, 28.1, 32.5, ..., 30.6, 25.6, 26.2]), array([36.6, 28.1, 32.5, ..., 30.6, 25.6, 26.2]), array([36.6, 28.1, 32.5, ..., 30.6, 25.6, 26.2]), array([36.6, 28.1, 32.5, ..., 30.6, 25.6, 26.2]), array([36.6, 28.1, 32.5, ..., 30.6, 25.6, 26.2]), array([36.6, 28.1, 32.5, ..., 30.6, 25.6, 26.2]), array([36.6, 28.1, 32.5, ..., 30.6, 25.6, 26.2]), array([36.6, 28.1, 32.5, ..., 30.6, 25.6, 26.2]), array([36.6, 28.1, 32.5, ..., 30.6, 25.6, 26.2]), array([36.6, 28.1, 32.5, ..., 30.6, 25.6, 26.2]), array([36.6, 28.1, 32.5, ..., 30.6, 25.6, 26.2]), array([36.6, 28.1, 32.5, ..., 30.6, 25.6, 26.2]), array([36.6, 28.1, 32.5, ..., 30.6, 25.6, 26.2]), array([36.6, 28.1, 32.5, ..., 30.6, 25.6, 26.2]), array([36.6, 28.1, 32.5, ..., 30.6, 25.6, 26.2]), array([36.6, 28.1, 32.5, ..., 30.6, 25.6, 26.2]), array([36.6, 28.1, 32.5, ..., 30.6, 25.6, 26.2]), array([36.6, 28.1, 32.5, ..., 30.6, 25.6, 26.2]), array([36.6, 28.1, 32.5, ..., 30.6, 25.6, 26.2]), array([36.6, 28.1, 32.5, ..., 30.6, 25.6, 26.2]), array([36.6, 28.1, 32.5, ..., 30.6, 25.6, 26.2]), array([36.6, 28.1, 32.5, ..., 30.6, 25.6, 26.2]), array([36.6, 28.1, 32.5, ..., 30.6, 25.6, 26.2]), array([36.6, 28.1, 32.5, ..., 30.6, 25.6, 26.2]), array([36.6, 28.1, 32.5, ..., 30.6, 25.6, 26.2]), array([36.6, 28.1, 32.5, ..., 30.6, 25.6, 26.2]), array([36.6, 28.1, 32.5, ..., 30.6, 25.6, 26.2]), array([36.6, 28.1, 32.5, ..., 30.6, 25.6, 26.2]), array([36.6, 28.1, 32.5, ..., 30.6, 25.6, 26.2]), array([36.6, 28.1, 32.5, ..., 30.6, 25.6, 26.2]), array([36.6, 28.1, 32.5, ..., 30.6, 25.6, 26.2]), array([36.6, 28.1, 32.5, ..., 30.6, 25.6, 26.2]), array([36.6, 28.1, 32.5, ..., 30.6, 25.6, 26.2]), array([36.6, 28.1, 32.5, ..., 30.6, 25.6, 26.2]), array([36.6, 28.1, 32.5, ..., 30.6, 25.6, 26.2]), array([36.6, 28.1, 32.5, ..., 30.6, 25.6, 26.2]), array([36.6, 28.1, 32.5, ..., 30.6, 25.6, 26.2])]\n",
      "[]\n",
      "[array([228.69, 202.21, 105.92, ...,  82.99, 166.29,  85.28]), array([228.69, 202.21, 105.92, ...,  82.99, 166.29,  85.28]), array([228.69, 202.21, 105.92, ...,  82.99, 166.29,  85.28]), array([228.69, 202.21, 105.92, ...,  82.99, 166.29,  85.28]), array([228.69, 202.21, 105.92, ...,  82.99, 166.29,  85.28]), array([228.69, 202.21, 105.92, ...,  82.99, 166.29,  85.28]), array([228.69, 202.21, 105.92, ...,  82.99, 166.29,  85.28]), array([228.69, 202.21, 105.92, ...,  82.99, 166.29,  85.28]), array([228.69, 202.21, 105.92, ...,  82.99, 166.29,  85.28]), array([228.69, 202.21, 105.92, ...,  82.99, 166.29,  85.28]), array([228.69, 202.21, 105.92, ...,  82.99, 166.29,  85.28]), array([228.69, 202.21, 105.92, ...,  82.99, 166.29,  85.28]), array([228.69, 202.21, 105.92, ...,  82.99, 166.29,  85.28]), array([228.69, 202.21, 105.92, ...,  82.99, 166.29,  85.28]), array([228.69, 202.21, 105.92, ...,  82.99, 166.29,  85.28]), array([228.69, 202.21, 105.92, ...,  82.99, 166.29,  85.28]), array([228.69, 202.21, 105.92, ...,  82.99, 166.29,  85.28]), array([228.69, 202.21, 105.92, ...,  82.99, 166.29,  85.28]), array([228.69, 202.21, 105.92, ...,  82.99, 166.29,  85.28]), array([228.69, 202.21, 105.92, ...,  82.99, 166.29,  85.28]), array([228.69, 202.21, 105.92, ...,  82.99, 166.29,  85.28]), array([228.69, 202.21, 105.92, ...,  82.99, 166.29,  85.28]), array([228.69, 202.21, 105.92, ...,  82.99, 166.29,  85.28]), array([228.69, 202.21, 105.92, ...,  82.99, 166.29,  85.28]), array([228.69, 202.21, 105.92, ...,  82.99, 166.29,  85.28]), array([228.69, 202.21, 105.92, ...,  82.99, 166.29,  85.28]), array([228.69, 202.21, 105.92, ...,  82.99, 166.29,  85.28]), array([228.69, 202.21, 105.92, ...,  82.99, 166.29,  85.28]), array([228.69, 202.21, 105.92, ...,  82.99, 166.29,  85.28]), array([228.69, 202.21, 105.92, ...,  82.99, 166.29,  85.28]), array([228.69, 202.21, 105.92, ...,  82.99, 166.29,  85.28]), array([228.69, 202.21, 105.92, ...,  82.99, 166.29,  85.28]), array([228.69, 202.21, 105.92, ...,  82.99, 166.29,  85.28]), array([228.69, 202.21, 105.92, ...,  82.99, 166.29,  85.28]), array([228.69, 202.21, 105.92, ...,  82.99, 166.29,  85.28]), array([228.69, 202.21, 105.92, ...,  82.99, 166.29,  85.28]), array([228.69, 202.21, 105.92, ...,  82.99, 166.29,  85.28]), array([228.69, 202.21, 105.92, ...,  82.99, 166.29,  85.28]), array([228.69, 202.21, 105.92, ...,  82.99, 166.29,  85.28]), array([228.69, 202.21, 105.92, ...,  82.99, 166.29,  85.28]), array([228.69, 202.21, 105.92, ...,  82.99, 166.29,  85.28]), array([228.69, 202.21, 105.92, ...,  82.99, 166.29,  85.28]), array([228.69, 202.21, 105.92, ...,  82.99, 166.29,  85.28]), array([228.69, 202.21, 105.92, ...,  82.99, 166.29,  85.28]), array([228.69, 202.21, 105.92, ...,  82.99, 166.29,  85.28]), array([228.69, 202.21, 105.92, ...,  82.99, 166.29,  85.28]), array([228.69, 202.21, 105.92, ...,  82.99, 166.29,  85.28]), array([228.69, 202.21, 105.92, ...,  82.99, 166.29,  85.28]), array([228.69, 202.21, 105.92, ...,  82.99, 166.29,  85.28])]\n"
     ]
    }
   ],
   "source": [
    "outlier_imputation(data['bmi'],bmi_outliers)\n",
    "outlier_imputation(data['age'],age_outliers)\n",
    "outlier_imputation(data['avg_glucose_level'],avg_glucose_level_outliers)"
   ]
  },
  {
   "cell_type": "code",
   "execution_count": 27,
   "id": "9df70486",
   "metadata": {},
   "outputs": [
    {
     "data": {
      "image/png": "[encoded data removed]",
      "text/plain": [
       "<Figure size 468x468 with 1 Axes>"
      ]
     },
     "metadata": {
      "needs_background": "light"
     },
     "output_type": "display_data"
    },
    {
     "data": {
      "image/png": "[encoded data removed]",
      "text/plain": [
       "<Figure size 468x468 with 1 Axes>"
      ]
     },
     "metadata": {
      "needs_background": "light"
     },
     "output_type": "display_data"
    },
    {
     "data": {
      "image/png": "[encoded data removed]",
      "text/plain": [
       "<Figure size 468x468 with 1 Axes>"
      ]
     },
     "metadata": {
      "needs_background": "light"
     },
     "output_type": "display_data"
    }
   ],
   "source": [
    "box_plot(data,\"stroke\",\"bmi\")\n",
    "box_plot(data,\"stroke\",\"age\")\n",
    "box_plot(data,\"stroke\",\"avg_glucose_level\")"
   ]
  },
  {
   "cell_type": "code",
   "execution_count": null,
   "id": "0e07e52b",
   "metadata": {},
   "outputs": [],
   "source": []
  },
  {
   "cell_type": "code",
   "execution_count": 28,
   "id": "f8418b58",
   "metadata": {},
   "outputs": [],
   "source": [
    "ninetieth_percentile = np.percentile(data['age'], 90)"
   ]
  },
  {
   "cell_type": "code",
   "execution_count": 29,
   "id": "d018d005",
   "metadata": {},
   "outputs": [
    {
     "data": {
      "text/plain": [
       "(array([   2,    4,    5,    9,   10,   13,   14,   22,   23,   25,   32,\n",
       "          33,   35,   40,   42,   45,   48,   50,   51,   52,   53,   56,\n",
       "          57,   61,   65,   67,   69,   70,   75,   76,   77,   82,   90,\n",
       "          91,   93,   95,  101,  103,  108,  110,  111,  112,  119,  122,\n",
       "         126,  127,  128,  131,  136,  137,  138,  140,  147,  150,  152,\n",
       "         155,  159,  160,  163,  165,  167,  168,  169,  171,  173,  174,\n",
       "         176,  177,  178,  179,  183,  187,  188,  198,  201,  202,  203,\n",
       "         205,  206,  207,  208,  214,  215,  216,  218,  220,  221,  223,\n",
       "         226,  229,  230,  231,  233,  234,  237,  248,  259,  260,  268,\n",
       "         301,  311,  314,  325,  330,  331,  337,  350,  360,  362,  405,\n",
       "         409,  463,  475,  482,  504,  549,  551,  568,  613,  621,  643,\n",
       "         653,  659,  661,  666,  670,  700,  710,  712,  720,  738,  752,\n",
       "         767,  801,  802,  867,  874,  890,  894,  918,  930,  942,  992,\n",
       "        1002, 1013, 1017, 1029, 1042, 1044, 1054, 1062, 1068, 1070, 1098,\n",
       "        1130, 1160, 1167, 1170, 1184, 1198, 1200, 1202, 1211, 1213, 1228,\n",
       "        1245, 1280, 1286, 1289, 1297, 1303, 1309, 1324, 1325, 1343, 1350,\n",
       "        1381, 1407, 1409, 1412, 1414, 1431, 1443, 1448, 1451, 1474, 1509,\n",
       "        1511, 1515, 1522, 1529, 1531, 1562, 1566, 1576, 1582, 1611, 1630,\n",
       "        1634, 1640, 1678, 1691, 1737, 1752, 1769, 1776, 1778, 1780, 1785,\n",
       "        1793, 1810, 1813, 1839, 1842, 1843, 1850, 1852, 1859, 1875, 1880,\n",
       "        1906, 1915, 1938, 1951, 1971, 2002, 2010, 2033, 2061, 2102, 2110,\n",
       "        2122, 2170, 2179, 2188, 2190, 2192, 2204, 2209, 2233, 2246, 2250,\n",
       "        2269, 2275, 2312, 2314, 2321, 2336, 2341, 2342, 2362, 2366, 2395,\n",
       "        2418, 2430, 2433, 2444, 2446, 2453, 2459, 2467, 2468, 2487, 2494,\n",
       "        2497, 2499, 2502, 2524, 2527, 2532, 2541, 2576, 2577, 2584, 2599,\n",
       "        2601, 2603, 2624, 2633, 2635, 2637, 2673, 2682, 2685, 2690, 2693,\n",
       "        2715, 2765, 2766, 2775, 2786, 2818, 2823, 2825, 2826, 2866, 2868,\n",
       "        2876, 2878, 2880, 2902, 2922, 2934, 2957, 2965, 2966, 2979, 2985,\n",
       "        2995, 3017, 3021, 3027, 3033, 3057, 3068, 3075, 3088, 3102, 3108,\n",
       "        3129, 3143, 3147, 3161, 3166, 3191, 3200, 3212, 3221, 3231, 3233,\n",
       "        3240, 3244, 3248, 3273, 3275, 3306, 3315, 3316, 3317, 3346, 3350,\n",
       "        3357, 3359, 3386, 3387, 3398, 3399, 3416, 3421, 3427, 3432, 3461,\n",
       "        3489, 3501, 3504, 3525, 3548, 3602, 3612, 3624, 3631, 3633, 3636,\n",
       "        3642, 3658, 3664, 3679, 3682, 3685, 3749, 3752, 3771, 3782, 3793,\n",
       "        3881, 3890, 3904, 3912, 3947, 3950, 3961, 3988, 4021, 4031, 4065,\n",
       "        4087, 4093, 4095, 4098, 4120, 4128, 4137, 4148, 4152, 4163, 4177,\n",
       "        4184, 4197, 4210, 4252, 4262, 4265, 4296, 4323, 4325, 4335, 4354,\n",
       "        4374, 4375, 4394, 4407, 4435, 4442, 4447, 4450, 4451, 4482, 4510,\n",
       "        4514, 4528, 4581, 4589, 4613, 4633, 4652, 4669, 4679, 4681, 4683,\n",
       "        4707, 4710, 4715, 4718, 4720, 4721, 4723, 4733, 4761, 4762, 4764,\n",
       "        4776, 4783, 4818, 4822, 4823, 4880, 4896, 4911, 4932, 4953, 4973,\n",
       "        4982, 4987, 5007, 5017, 5033, 5034, 5059, 5061, 5067, 5070, 5091,\n",
       "        5099, 5104, 5105]),)"
      ]
     },
     "execution_count": 29,
     "metadata": {},
     "output_type": "execute_result"
    }
   ],
   "source": [
    "np.where(data['age'].values>ninetieth_percentile)"
   ]
  },
  {
   "cell_type": "code",
   "execution_count": null,
   "id": "062f94ac",
   "metadata": {},
   "outputs": [],
   "source": []
  },
  {
   "cell_type": "code",
   "execution_count": null,
   "id": "3da25b1d",
   "metadata": {},
   "outputs": [],
   "source": []
  },
  {
   "cell_type": "code",
   "execution_count": null,
   "id": "bf45f9e4",
   "metadata": {},
   "outputs": [],
   "source": []
  }
 ],
 "metadata": {
  "kernelspec": {
   "display_name": "Python 3 (ipykernel)",
   "language": "python",
   "name": "python3"
  },
  "language_info": {
   "codemirror_mode": {
    "name": "ipython",
    "version": 3
   },
   "file_extension": ".py",
   "mimetype": "text/x-python",
   "name": "python",
   "nbconvert_exporter": "python",
   "pygments_lexer": "ipython3",
   "version": "3.9.10"
  }
 },
 "nbformat": 4,
 "nbformat_minor": 5
}
