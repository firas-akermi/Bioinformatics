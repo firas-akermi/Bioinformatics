{
 "cells": [
  {
   "cell_type": "markdown",
   "id": "17cbfb73",
   "metadata": {},
   "source": [
    "# importing libraries"
   ]
  },
  {
   "cell_type": "code",
   "execution_count": 308,
   "id": "07df7621",
   "metadata": {},
   "outputs": [],
   "source": [
    "import pandas as pd\n",
    "import matplotlib.pyplot as plt\n",
    "import seaborn as sns \n",
    "from scipy import stats\n",
    "import numpy as np\n",
    "import pickle\n",
    "from sklearn.model_selection import train_test_split\n",
    "from sklearn.pipeline import Pipeline\n",
    "from sklearn.preprocessing import StandardScaler, OneHotEncoder\n",
    "from sklearn.compose import ColumnTransformer\n",
    "from sklearn.ensemble import RandomForestClassifier\n",
    "from sklearn.metrics import accuracy_score,precision_score,f1_score,recall_score\n",
    "from sklearn.metrics import mean_squared_error\n",
    "from sklearn.model_selection import RandomizedSearchCV"
   ]
  },
  {
   "cell_type": "markdown",
   "id": "736b5b1e",
   "metadata": {},
   "source": [
    "# EDA"
   ]
  },
  {
   "cell_type": "code",
   "execution_count": 309,
   "id": "07ecc947",
   "metadata": {},
   "outputs": [],
   "source": [
    "data = pd.read_table('data/healthcare-dataset-stroke-data.csv',sep=',')"
   ]
  },
  {
   "cell_type": "code",
   "execution_count": 310,
   "id": "6c0e70ad",
   "metadata": {},
   "outputs": [
    {
     "data": {
      "text/html": [
       "<div>\n",
       "<style scoped>\n",
       "    .dataframe tbody tr th:only-of-type {\n",
       "        vertical-align: middle;\n",
       "    }\n",
       "\n",
       "    .dataframe tbody tr th {\n",
       "        vertical-align: top;\n",
       "    }\n",
       "\n",
       "    .dataframe thead th {\n",
       "        text-align: right;\n",
       "    }\n",
       "</style>\n",
       "<table border=\"1\" class=\"dataframe\">\n",
       "  <thead>\n",
       "    <tr style=\"text-align: right;\">\n",
       "      <th></th>\n",
       "      <th>id</th>\n",
       "      <th>gender</th>\n",
       "      <th>age</th>\n",
       "      <th>hypertension</th>\n",
       "      <th>heart_disease</th>\n",
       "      <th>ever_married</th>\n",
       "      <th>work_type</th>\n",
       "      <th>Residence_type</th>\n",
       "      <th>avg_glucose_level</th>\n",
       "      <th>bmi</th>\n",
       "      <th>smoking_status</th>\n",
       "      <th>stroke</th>\n",
       "    </tr>\n",
       "  </thead>\n",
       "  <tbody>\n",
       "    <tr>\n",
       "      <th>0</th>\n",
       "      <td>9046</td>\n",
       "      <td>Male</td>\n",
       "      <td>67.0</td>\n",
       "      <td>0</td>\n",
       "      <td>1</td>\n",
       "      <td>Yes</td>\n",
       "      <td>Private</td>\n",
       "      <td>Urban</td>\n",
       "      <td>228.69</td>\n",
       "      <td>36.6</td>\n",
       "      <td>formerly smoked</td>\n",
       "      <td>1</td>\n",
       "    </tr>\n",
       "    <tr>\n",
       "      <th>1</th>\n",
       "      <td>51676</td>\n",
       "      <td>Female</td>\n",
       "      <td>61.0</td>\n",
       "      <td>0</td>\n",
       "      <td>0</td>\n",
       "      <td>Yes</td>\n",
       "      <td>Self-employed</td>\n",
       "      <td>Rural</td>\n",
       "      <td>202.21</td>\n",
       "      <td>NaN</td>\n",
       "      <td>never smoked</td>\n",
       "      <td>1</td>\n",
       "    </tr>\n",
       "  </tbody>\n",
       "</table>\n",
       "</div>"
      ],
      "text/plain": [
       "      id  gender   age  hypertension  heart_disease ever_married  \\\n",
       "0   9046    Male  67.0             0              1          Yes   \n",
       "1  51676  Female  61.0             0              0          Yes   \n",
       "\n",
       "       work_type Residence_type  avg_glucose_level   bmi   smoking_status  \\\n",
       "0        Private          Urban             228.69  36.6  formerly smoked   \n",
       "1  Self-employed          Rural             202.21   NaN     never smoked   \n",
       "\n",
       "   stroke  \n",
       "0       1  \n",
       "1       1  "
      ]
     },
     "execution_count": 310,
     "metadata": {},
     "output_type": "execute_result"
    }
   ],
   "source": [
    "data.head(2)"
   ]
  },
  {
   "cell_type": "code",
   "execution_count": 311,
   "id": "30e29a66",
   "metadata": {},
   "outputs": [
    {
     "data": {
      "text/plain": [
       "(5110, 12)"
      ]
     },
     "execution_count": 311,
     "metadata": {},
     "output_type": "execute_result"
    }
   ],
   "source": [
    "data.shape"
   ]
  },
  {
   "cell_type": "code",
   "execution_count": 312,
   "id": "5eff9c24",
   "metadata": {},
   "outputs": [
    {
     "data": {
      "text/html": [
       "<div>\n",
       "<style scoped>\n",
       "    .dataframe tbody tr th:only-of-type {\n",
       "        vertical-align: middle;\n",
       "    }\n",
       "\n",
       "    .dataframe tbody tr th {\n",
       "        vertical-align: top;\n",
       "    }\n",
       "\n",
       "    .dataframe thead th {\n",
       "        text-align: right;\n",
       "    }\n",
       "</style>\n",
       "<table border=\"1\" class=\"dataframe\">\n",
       "  <thead>\n",
       "    <tr style=\"text-align: right;\">\n",
       "      <th></th>\n",
       "      <th>id</th>\n",
       "      <th>age</th>\n",
       "      <th>hypertension</th>\n",
       "      <th>heart_disease</th>\n",
       "      <th>avg_glucose_level</th>\n",
       "      <th>bmi</th>\n",
       "      <th>stroke</th>\n",
       "    </tr>\n",
       "  </thead>\n",
       "  <tbody>\n",
       "    <tr>\n",
       "      <th>count</th>\n",
       "      <td>5110.000000</td>\n",
       "      <td>5110.000000</td>\n",
       "      <td>5110.000000</td>\n",
       "      <td>5110.000000</td>\n",
       "      <td>5110.000000</td>\n",
       "      <td>4909.000000</td>\n",
       "      <td>5110.000000</td>\n",
       "    </tr>\n",
       "    <tr>\n",
       "      <th>mean</th>\n",
       "      <td>36517.829354</td>\n",
       "      <td>43.226614</td>\n",
       "      <td>0.097456</td>\n",
       "      <td>0.054012</td>\n",
       "      <td>106.147677</td>\n",
       "      <td>28.893237</td>\n",
       "      <td>0.048728</td>\n",
       "    </tr>\n",
       "    <tr>\n",
       "      <th>std</th>\n",
       "      <td>21161.721625</td>\n",
       "      <td>22.612647</td>\n",
       "      <td>0.296607</td>\n",
       "      <td>0.226063</td>\n",
       "      <td>45.283560</td>\n",
       "      <td>7.854067</td>\n",
       "      <td>0.215320</td>\n",
       "    </tr>\n",
       "    <tr>\n",
       "      <th>min</th>\n",
       "      <td>67.000000</td>\n",
       "      <td>0.080000</td>\n",
       "      <td>0.000000</td>\n",
       "      <td>0.000000</td>\n",
       "      <td>55.120000</td>\n",
       "      <td>10.300000</td>\n",
       "      <td>0.000000</td>\n",
       "    </tr>\n",
       "    <tr>\n",
       "      <th>25%</th>\n",
       "      <td>17741.250000</td>\n",
       "      <td>25.000000</td>\n",
       "      <td>0.000000</td>\n",
       "      <td>0.000000</td>\n",
       "      <td>77.245000</td>\n",
       "      <td>23.500000</td>\n",
       "      <td>0.000000</td>\n",
       "    </tr>\n",
       "    <tr>\n",
       "      <th>50%</th>\n",
       "      <td>36932.000000</td>\n",
       "      <td>45.000000</td>\n",
       "      <td>0.000000</td>\n",
       "      <td>0.000000</td>\n",
       "      <td>91.885000</td>\n",
       "      <td>28.100000</td>\n",
       "      <td>0.000000</td>\n",
       "    </tr>\n",
       "    <tr>\n",
       "      <th>75%</th>\n",
       "      <td>54682.000000</td>\n",
       "      <td>61.000000</td>\n",
       "      <td>0.000000</td>\n",
       "      <td>0.000000</td>\n",
       "      <td>114.090000</td>\n",
       "      <td>33.100000</td>\n",
       "      <td>0.000000</td>\n",
       "    </tr>\n",
       "    <tr>\n",
       "      <th>max</th>\n",
       "      <td>72940.000000</td>\n",
       "      <td>82.000000</td>\n",
       "      <td>1.000000</td>\n",
       "      <td>1.000000</td>\n",
       "      <td>271.740000</td>\n",
       "      <td>97.600000</td>\n",
       "      <td>1.000000</td>\n",
       "    </tr>\n",
       "  </tbody>\n",
       "</table>\n",
       "</div>"
      ],
      "text/plain": [
       "                 id          age  hypertension  heart_disease  \\\n",
       "count   5110.000000  5110.000000   5110.000000    5110.000000   \n",
       "mean   36517.829354    43.226614      0.097456       0.054012   \n",
       "std    21161.721625    22.612647      0.296607       0.226063   \n",
       "min       67.000000     0.080000      0.000000       0.000000   \n",
       "25%    17741.250000    25.000000      0.000000       0.000000   \n",
       "50%    36932.000000    45.000000      0.000000       0.000000   \n",
       "75%    54682.000000    61.000000      0.000000       0.000000   \n",
       "max    72940.000000    82.000000      1.000000       1.000000   \n",
       "\n",
       "       avg_glucose_level          bmi       stroke  \n",
       "count        5110.000000  4909.000000  5110.000000  \n",
       "mean          106.147677    28.893237     0.048728  \n",
       "std            45.283560     7.854067     0.215320  \n",
       "min            55.120000    10.300000     0.000000  \n",
       "25%            77.245000    23.500000     0.000000  \n",
       "50%            91.885000    28.100000     0.000000  \n",
       "75%           114.090000    33.100000     0.000000  \n",
       "max           271.740000    97.600000     1.000000  "
      ]
     },
     "execution_count": 312,
     "metadata": {},
     "output_type": "execute_result"
    }
   ],
   "source": [
    "data.describe()"
   ]
  },
  {
   "cell_type": "code",
   "execution_count": 313,
   "id": "feb667e3",
   "metadata": {},
   "outputs": [
    {
     "data": {
      "text/plain": [
       "array([False])"
      ]
     },
     "execution_count": 313,
     "metadata": {},
     "output_type": "execute_result"
    }
   ],
   "source": [
    "data.duplicated().unique()"
   ]
  },
  {
   "cell_type": "markdown",
   "id": "d28e470f",
   "metadata": {},
   "source": [
    "Missing Values"
   ]
  },
  {
   "cell_type": "code",
   "execution_count": 314,
   "id": "776dc2b7",
   "metadata": {},
   "outputs": [
    {
     "data": {
      "text/plain": [
       "id                     0\n",
       "gender                 0\n",
       "age                    0\n",
       "hypertension           0\n",
       "heart_disease          0\n",
       "ever_married           0\n",
       "work_type              0\n",
       "Residence_type         0\n",
       "avg_glucose_level      0\n",
       "bmi                  201\n",
       "smoking_status         0\n",
       "stroke                 0\n",
       "dtype: int64"
      ]
     },
     "execution_count": 314,
     "metadata": {},
     "output_type": "execute_result"
    }
   ],
   "source": [
    "data.isnull().sum()"
   ]
  },
  {
   "cell_type": "code",
   "execution_count": 315,
   "id": "0e99bafe",
   "metadata": {},
   "outputs": [],
   "source": [
    "data = data.fillna(data[\"bmi\"].median())"
   ]
  },
  {
   "cell_type": "markdown",
   "id": "e8eed13d",
   "metadata": {},
   "source": [
    "Pivot tables"
   ]
  },
  {
   "cell_type": "code",
   "execution_count": 316,
   "id": "8cb354ad",
   "metadata": {},
   "outputs": [],
   "source": [
    "def pivot(data,values,index,color):\n",
    "    pivot_table=pd.pivot_table(data, values=values, \n",
    "                             index=index,\n",
    "                             aggfunc='count')\n",
    "    pivot_table = pivot_table.style.background_gradient(sns.light_palette(color, as_cmap=True))\n",
    "    return pivot_table"
   ]
  },
  {
   "cell_type": "code",
   "execution_count": 317,
   "id": "14038f9a",
   "metadata": {},
   "outputs": [
    {
     "data": {
      "text/html": [
       "<style type=\"text/css\">\n",
       "#T_40368_row0_col0 {\n",
       "  background-color: #f97979;\n",
       "  color: #f1f1f1;\n",
       "}\n",
       "#T_40368_row1_col0 {\n",
       "  background-color: #ff0000;\n",
       "  color: #f1f1f1;\n",
       "}\n",
       "#T_40368_row2_col0 {\n",
       "  background-color: #f79595;\n",
       "  color: #000000;\n",
       "}\n",
       "#T_40368_row3_col0 {\n",
       "  background-color: #fb4e4e;\n",
       "  color: #f1f1f1;\n",
       "}\n",
       "#T_40368_row4_col0 {\n",
       "  background-color: #f3f0f0;\n",
       "  color: #000000;\n",
       "}\n",
       "</style>\n",
       "<table id=\"T_40368\">\n",
       "  <thead>\n",
       "    <tr>\n",
       "      <th class=\"blank\" >&nbsp;</th>\n",
       "      <th class=\"blank level0\" >&nbsp;</th>\n",
       "      <th id=\"T_40368_level0_col0\" class=\"col_heading level0 col0\" >stroke</th>\n",
       "    </tr>\n",
       "    <tr>\n",
       "      <th class=\"index_name level0\" >gender</th>\n",
       "      <th class=\"index_name level1\" >ever_married</th>\n",
       "      <th class=\"blank col0\" >&nbsp;</th>\n",
       "    </tr>\n",
       "  </thead>\n",
       "  <tbody>\n",
       "    <tr>\n",
       "      <th id=\"T_40368_level0_row0\" class=\"row_heading level0 row0\" rowspan=\"2\">Female</th>\n",
       "      <th id=\"T_40368_level1_row0\" class=\"row_heading level1 row0\" >No</th>\n",
       "      <td id=\"T_40368_row0_col0\" class=\"data row0 col0\" >993</td>\n",
       "    </tr>\n",
       "    <tr>\n",
       "      <th id=\"T_40368_level1_row1\" class=\"row_heading level1 row1\" >Yes</th>\n",
       "      <td id=\"T_40368_row1_col0\" class=\"data row1 col0\" >2001</td>\n",
       "    </tr>\n",
       "    <tr>\n",
       "      <th id=\"T_40368_level0_row2\" class=\"row_heading level0 row2\" rowspan=\"2\">Male</th>\n",
       "      <th id=\"T_40368_level1_row2\" class=\"row_heading level1 row2\" >No</th>\n",
       "      <td id=\"T_40368_row2_col0\" class=\"data row2 col0\" >763</td>\n",
       "    </tr>\n",
       "    <tr>\n",
       "      <th id=\"T_40368_level1_row3\" class=\"row_heading level1 row3\" >Yes</th>\n",
       "      <td id=\"T_40368_row3_col0\" class=\"data row3 col0\" >1352</td>\n",
       "    </tr>\n",
       "    <tr>\n",
       "      <th id=\"T_40368_level0_row4\" class=\"row_heading level0 row4\" >Other</th>\n",
       "      <th id=\"T_40368_level1_row4\" class=\"row_heading level1 row4\" >No</th>\n",
       "      <td id=\"T_40368_row4_col0\" class=\"data row4 col0\" >1</td>\n",
       "    </tr>\n",
       "  </tbody>\n",
       "</table>\n"
      ],
      "text/plain": [
       "<pandas.io.formats.style.Styler at 0x7fe3170b03d0>"
      ]
     },
     "execution_count": 317,
     "metadata": {},
     "output_type": "execute_result"
    }
   ],
   "source": [
    "gender_status= pivot(data,'stroke',['gender', 'ever_married'],'red')\n",
    "gender_status"
   ]
  },
  {
   "cell_type": "code",
   "execution_count": 318,
   "id": "04f0b055",
   "metadata": {},
   "outputs": [
    {
     "data": {
      "text/html": [
       "<style type=\"text/css\">\n",
       "#T_68838_row0_col0 {\n",
       "  background-color: #f5c4c4;\n",
       "  color: #000000;\n",
       "}\n",
       "#T_68838_row1_col0 {\n",
       "  background-color: #ff0000;\n",
       "  color: #f1f1f1;\n",
       "}\n",
       "#T_68838_row2_col0 {\n",
       "  background-color: #f3f0f0;\n",
       "  color: #000000;\n",
       "}\n",
       "#T_68838_row3_col0 {\n",
       "  background-color: #f97e7e;\n",
       "  color: #f1f1f1;\n",
       "}\n",
       "</style>\n",
       "<table id=\"T_68838\">\n",
       "  <thead>\n",
       "    <tr>\n",
       "      <th class=\"blank\" >&nbsp;</th>\n",
       "      <th class=\"blank level0\" >&nbsp;</th>\n",
       "      <th id=\"T_68838_level0_col0\" class=\"col_heading level0 col0\" >stroke</th>\n",
       "    </tr>\n",
       "    <tr>\n",
       "      <th class=\"index_name level0\" >gender</th>\n",
       "      <th class=\"index_name level1\" >ever_married</th>\n",
       "      <th class=\"blank col0\" >&nbsp;</th>\n",
       "    </tr>\n",
       "  </thead>\n",
       "  <tbody>\n",
       "    <tr>\n",
       "      <th id=\"T_68838_level0_row0\" class=\"row_heading level0 row0\" rowspan=\"2\">Female</th>\n",
       "      <th id=\"T_68838_level1_row0\" class=\"row_heading level1 row0\" >No</th>\n",
       "      <td id=\"T_68838_row0_col0\" class=\"data row0 col0\" >993</td>\n",
       "    </tr>\n",
       "    <tr>\n",
       "      <th id=\"T_68838_level1_row1\" class=\"row_heading level1 row1\" >Yes</th>\n",
       "      <td id=\"T_68838_row1_col0\" class=\"data row1 col0\" >2001</td>\n",
       "    </tr>\n",
       "    <tr>\n",
       "      <th id=\"T_68838_level0_row2\" class=\"row_heading level0 row2\" rowspan=\"2\">Male</th>\n",
       "      <th id=\"T_68838_level1_row2\" class=\"row_heading level1 row2\" >No</th>\n",
       "      <td id=\"T_68838_row2_col0\" class=\"data row2 col0\" >763</td>\n",
       "    </tr>\n",
       "    <tr>\n",
       "      <th id=\"T_68838_level1_row3\" class=\"row_heading level1 row3\" >Yes</th>\n",
       "      <td id=\"T_68838_row3_col0\" class=\"data row3 col0\" >1352</td>\n",
       "    </tr>\n",
       "  </tbody>\n",
       "</table>\n"
      ],
      "text/plain": [
       "<pandas.io.formats.style.Styler at 0x7fe3317debb0>"
      ]
     },
     "execution_count": 318,
     "metadata": {},
     "output_type": "execute_result"
    }
   ],
   "source": [
    "data=data[data.gender!='Other']\n",
    "gender_status= pivot(data,'stroke',['gender', 'ever_married'],'red')\n",
    "gender_status"
   ]
  },
  {
   "cell_type": "code",
   "execution_count": 319,
   "id": "eef22f40",
   "metadata": {},
   "outputs": [
    {
     "data": {
      "text/html": [
       "<style type=\"text/css\">\n",
       "#T_61994_row0_col0 {\n",
       "  background-color: #008000;\n",
       "  color: #f1f1f1;\n",
       "}\n",
       "#T_61994_row1_col0 {\n",
       "  background-color: #e6f1e6;\n",
       "  color: #000000;\n",
       "}\n",
       "#T_61994_row2_col0 {\n",
       "  background-color: #4da64d;\n",
       "  color: #f1f1f1;\n",
       "}\n",
       "#T_61994_row3_col0 {\n",
       "  background-color: #ebf3eb;\n",
       "  color: #000000;\n",
       "}\n",
       "</style>\n",
       "<table id=\"T_61994\">\n",
       "  <thead>\n",
       "    <tr>\n",
       "      <th class=\"blank\" >&nbsp;</th>\n",
       "      <th class=\"blank level0\" >&nbsp;</th>\n",
       "      <th id=\"T_61994_level0_col0\" class=\"col_heading level0 col0\" >stroke</th>\n",
       "    </tr>\n",
       "    <tr>\n",
       "      <th class=\"index_name level0\" >gender</th>\n",
       "      <th class=\"index_name level1\" >hypertension</th>\n",
       "      <th class=\"blank col0\" >&nbsp;</th>\n",
       "    </tr>\n",
       "  </thead>\n",
       "  <tbody>\n",
       "    <tr>\n",
       "      <th id=\"T_61994_level0_row0\" class=\"row_heading level0 row0\" rowspan=\"2\">Female</th>\n",
       "      <th id=\"T_61994_level1_row0\" class=\"row_heading level1 row0\" >0</th>\n",
       "      <td id=\"T_61994_row0_col0\" class=\"data row0 col0\" >2718</td>\n",
       "    </tr>\n",
       "    <tr>\n",
       "      <th id=\"T_61994_level1_row1\" class=\"row_heading level1 row1\" >1</th>\n",
       "      <td id=\"T_61994_row1_col0\" class=\"data row1 col0\" >276</td>\n",
       "    </tr>\n",
       "    <tr>\n",
       "      <th id=\"T_61994_level0_row2\" class=\"row_heading level0 row2\" rowspan=\"2\">Male</th>\n",
       "      <th id=\"T_61994_level1_row2\" class=\"row_heading level1 row2\" >0</th>\n",
       "      <td id=\"T_61994_row2_col0\" class=\"data row2 col0\" >1893</td>\n",
       "    </tr>\n",
       "    <tr>\n",
       "      <th id=\"T_61994_level1_row3\" class=\"row_heading level1 row3\" >1</th>\n",
       "      <td id=\"T_61994_row3_col0\" class=\"data row3 col0\" >222</td>\n",
       "    </tr>\n",
       "  </tbody>\n",
       "</table>\n"
      ],
      "text/plain": [
       "<pandas.io.formats.style.Styler at 0x7fe30a57bd30>"
      ]
     },
     "execution_count": 319,
     "metadata": {},
     "output_type": "execute_result"
    }
   ],
   "source": [
    "gender_tension=pivot(data,'stroke',['gender', 'hypertension'],'green')\n",
    "gender_tension"
   ]
  },
  {
   "cell_type": "code",
   "execution_count": 320,
   "id": "7a8270bd",
   "metadata": {},
   "outputs": [
    {
     "data": {
      "text/html": [
       "<style type=\"text/css\">\n",
       "#T_51bff_row0_col0 {\n",
       "  background-color: #f5f5ad;\n",
       "  color: #000000;\n",
       "}\n",
       "#T_51bff_row1_col0, #T_51bff_row6_col0 {\n",
       "  background-color: #f2f2dd;\n",
       "  color: #000000;\n",
       "}\n",
       "#T_51bff_row2_col0 {\n",
       "  background-color: #ffff00;\n",
       "  color: #000000;\n",
       "}\n",
       "#T_51bff_row3_col0 {\n",
       "  background-color: #f6f69f;\n",
       "  color: #000000;\n",
       "}\n",
       "#T_51bff_row4_col0 {\n",
       "  background-color: #f4f4b5;\n",
       "  color: #000000;\n",
       "}\n",
       "#T_51bff_row5_col0 {\n",
       "  background-color: #f4f4be;\n",
       "  color: #000000;\n",
       "}\n",
       "#T_51bff_row7_col0 {\n",
       "  background-color: #fbfb4a;\n",
       "  color: #000000;\n",
       "}\n",
       "#T_51bff_row8_col0 {\n",
       "  background-color: #f4f4b7;\n",
       "  color: #000000;\n",
       "}\n",
       "#T_51bff_row9_col0 {\n",
       "  background-color: #f5f5b1;\n",
       "  color: #000000;\n",
       "}\n",
       "</style>\n",
       "<table id=\"T_51bff\">\n",
       "  <thead>\n",
       "    <tr>\n",
       "      <th class=\"blank\" >&nbsp;</th>\n",
       "      <th class=\"blank level0\" >&nbsp;</th>\n",
       "      <th id=\"T_51bff_level0_col0\" class=\"col_heading level0 col0\" >stroke</th>\n",
       "    </tr>\n",
       "    <tr>\n",
       "      <th class=\"index_name level0\" >gender</th>\n",
       "      <th class=\"index_name level1\" >work_type</th>\n",
       "      <th class=\"blank col0\" >&nbsp;</th>\n",
       "    </tr>\n",
       "  </thead>\n",
       "  <tbody>\n",
       "    <tr>\n",
       "      <th id=\"T_51bff_level0_row0\" class=\"row_heading level0 row0\" rowspan=\"5\">Female</th>\n",
       "      <th id=\"T_51bff_level1_row0\" class=\"row_heading level1 row0\" >Govt_job</th>\n",
       "      <td id=\"T_51bff_row0_col0\" class=\"data row0 col0\" >399</td>\n",
       "    </tr>\n",
       "    <tr>\n",
       "      <th id=\"T_51bff_level1_row1\" class=\"row_heading level1 row1\" >Never_worked</th>\n",
       "      <td id=\"T_51bff_row1_col0\" class=\"data row1 col0\" >11</td>\n",
       "    </tr>\n",
       "    <tr>\n",
       "      <th id=\"T_51bff_level1_row2\" class=\"row_heading level1 row2\" >Private</th>\n",
       "      <td id=\"T_51bff_row2_col0\" class=\"data row2 col0\" >1754</td>\n",
       "    </tr>\n",
       "    <tr>\n",
       "      <th id=\"T_51bff_level1_row3\" class=\"row_heading level1 row3\" >Self-employed</th>\n",
       "      <td id=\"T_51bff_row3_col0\" class=\"data row3 col0\" >504</td>\n",
       "    </tr>\n",
       "    <tr>\n",
       "      <th id=\"T_51bff_level1_row4\" class=\"row_heading level1 row4\" >children</th>\n",
       "      <td id=\"T_51bff_row4_col0\" class=\"data row4 col0\" >326</td>\n",
       "    </tr>\n",
       "    <tr>\n",
       "      <th id=\"T_51bff_level0_row5\" class=\"row_heading level0 row5\" rowspan=\"5\">Male</th>\n",
       "      <th id=\"T_51bff_level1_row5\" class=\"row_heading level1 row5\" >Govt_job</th>\n",
       "      <td id=\"T_51bff_row5_col0\" class=\"data row5 col0\" >258</td>\n",
       "    </tr>\n",
       "    <tr>\n",
       "      <th id=\"T_51bff_level1_row6\" class=\"row_heading level1 row6\" >Never_worked</th>\n",
       "      <td id=\"T_51bff_row6_col0\" class=\"data row6 col0\" >11</td>\n",
       "    </tr>\n",
       "    <tr>\n",
       "      <th id=\"T_51bff_level1_row7\" class=\"row_heading level1 row7\" >Private</th>\n",
       "      <td id=\"T_51bff_row7_col0\" class=\"data row7 col0\" >1170</td>\n",
       "    </tr>\n",
       "    <tr>\n",
       "      <th id=\"T_51bff_level1_row8\" class=\"row_heading level1 row8\" >Self-employed</th>\n",
       "      <td id=\"T_51bff_row8_col0\" class=\"data row8 col0\" >315</td>\n",
       "    </tr>\n",
       "    <tr>\n",
       "      <th id=\"T_51bff_level1_row9\" class=\"row_heading level1 row9\" >children</th>\n",
       "      <td id=\"T_51bff_row9_col0\" class=\"data row9 col0\" >361</td>\n",
       "    </tr>\n",
       "  </tbody>\n",
       "</table>\n"
      ],
      "text/plain": [
       "<pandas.io.formats.style.Styler at 0x7fe31d851a30>"
      ]
     },
     "execution_count": 320,
     "metadata": {},
     "output_type": "execute_result"
    }
   ],
   "source": [
    "gender_work=pivot(data,'stroke',['gender', 'work_type'],'yellow')\n",
    "gender_work"
   ]
  },
  {
   "cell_type": "code",
   "execution_count": 321,
   "id": "9cec74cc",
   "metadata": {},
   "outputs": [
    {
     "data": {
      "text/html": [
       "<style type=\"text/css\">\n",
       "#T_9b590_row0_col0 {\n",
       "  background-color: #6a6ab9;\n",
       "  color: #f1f1f1;\n",
       "}\n",
       "#T_9b590_row1_col0 {\n",
       "  background-color: #cbcbe2;\n",
       "  color: #000000;\n",
       "}\n",
       "#T_9b590_row2_col0 {\n",
       "  background-color: #00008b;\n",
       "  color: #f1f1f1;\n",
       "}\n",
       "#T_9b590_row3_col0 {\n",
       "  background-color: #d1d1e5;\n",
       "  color: #000000;\n",
       "}\n",
       "#T_9b590_row4_col0 {\n",
       "  background-color: #8c8cc8;\n",
       "  color: #f1f1f1;\n",
       "}\n",
       "#T_9b590_row5_col0 {\n",
       "  background-color: #dedeeb;\n",
       "  color: #000000;\n",
       "}\n",
       "#T_9b590_row6_col0 {\n",
       "  background-color: #9999cd;\n",
       "  color: #f1f1f1;\n",
       "}\n",
       "#T_9b590_row7_col0 {\n",
       "  background-color: #f0f0f3;\n",
       "  color: #000000;\n",
       "}\n",
       "</style>\n",
       "<table id=\"T_9b590\">\n",
       "  <thead>\n",
       "    <tr>\n",
       "      <th class=\"blank\" >&nbsp;</th>\n",
       "      <th class=\"blank level0\" >&nbsp;</th>\n",
       "      <th id=\"T_9b590_level0_col0\" class=\"col_heading level0 col0\" >stroke</th>\n",
       "    </tr>\n",
       "    <tr>\n",
       "      <th class=\"index_name level0\" >gender</th>\n",
       "      <th class=\"index_name level1\" >smoking_status</th>\n",
       "      <th class=\"blank col0\" >&nbsp;</th>\n",
       "    </tr>\n",
       "  </thead>\n",
       "  <tbody>\n",
       "    <tr>\n",
       "      <th id=\"T_9b590_level0_row0\" class=\"row_heading level0 row0\" rowspan=\"4\">Female</th>\n",
       "      <th id=\"T_9b590_level1_row0\" class=\"row_heading level1 row0\" >Unknown</th>\n",
       "      <td id=\"T_9b590_row0_col0\" class=\"data row0 col0\" >836</td>\n",
       "    </tr>\n",
       "    <tr>\n",
       "      <th id=\"T_9b590_level1_row1\" class=\"row_heading level1 row1\" >formerly smoked</th>\n",
       "      <td id=\"T_9b590_row1_col0\" class=\"data row1 col0\" >477</td>\n",
       "    </tr>\n",
       "    <tr>\n",
       "      <th id=\"T_9b590_level1_row2\" class=\"row_heading level1 row2\" >never smoked</th>\n",
       "      <td id=\"T_9b590_row2_col0\" class=\"data row2 col0\" >1229</td>\n",
       "    </tr>\n",
       "    <tr>\n",
       "      <th id=\"T_9b590_level1_row3\" class=\"row_heading level1 row3\" >smokes</th>\n",
       "      <td id=\"T_9b590_row3_col0\" class=\"data row3 col0\" >452</td>\n",
       "    </tr>\n",
       "    <tr>\n",
       "      <th id=\"T_9b590_level0_row4\" class=\"row_heading level0 row4\" rowspan=\"4\">Male</th>\n",
       "      <th id=\"T_9b590_level1_row4\" class=\"row_heading level1 row4\" >Unknown</th>\n",
       "      <td id=\"T_9b590_row4_col0\" class=\"data row4 col0\" >708</td>\n",
       "    </tr>\n",
       "    <tr>\n",
       "      <th id=\"T_9b590_level1_row5\" class=\"row_heading level1 row5\" >formerly smoked</th>\n",
       "      <td id=\"T_9b590_row5_col0\" class=\"data row5 col0\" >407</td>\n",
       "    </tr>\n",
       "    <tr>\n",
       "      <th id=\"T_9b590_level1_row6\" class=\"row_heading level1 row6\" >never smoked</th>\n",
       "      <td id=\"T_9b590_row6_col0\" class=\"data row6 col0\" >663</td>\n",
       "    </tr>\n",
       "    <tr>\n",
       "      <th id=\"T_9b590_level1_row7\" class=\"row_heading level1 row7\" >smokes</th>\n",
       "      <td id=\"T_9b590_row7_col0\" class=\"data row7 col0\" >337</td>\n",
       "    </tr>\n",
       "  </tbody>\n",
       "</table>\n"
      ],
      "text/plain": [
       "<pandas.io.formats.style.Styler at 0x7fe31db71640>"
      ]
     },
     "execution_count": 321,
     "metadata": {},
     "output_type": "execute_result"
    }
   ],
   "source": [
    "gender_smoke=pivot(data,'stroke',['gender', 'smoking_status'],'darkblue')\n",
    "gender_smoke"
   ]
  },
  {
   "cell_type": "code",
   "execution_count": 322,
   "id": "2dd22a87",
   "metadata": {},
   "outputs": [
    {
     "data": {
      "text/html": [
       "<style type=\"text/css\">\n",
       "#T_586c2_row0_col0 {\n",
       "  background-color: #8f208f;\n",
       "  color: #f1f1f1;\n",
       "}\n",
       "#T_586c2_row1_col0 {\n",
       "  background-color: #800080;\n",
       "  color: #f1f1f1;\n",
       "}\n",
       "#T_586c2_row2_col0 {\n",
       "  background-color: #f3f0f3;\n",
       "  color: #000000;\n",
       "}\n",
       "#T_586c2_row3_col0 {\n",
       "  background-color: #eee6ee;\n",
       "  color: #000000;\n",
       "}\n",
       "</style>\n",
       "<table id=\"T_586c2\">\n",
       "  <thead>\n",
       "    <tr>\n",
       "      <th class=\"blank\" >&nbsp;</th>\n",
       "      <th class=\"blank level0\" >&nbsp;</th>\n",
       "      <th id=\"T_586c2_level0_col0\" class=\"col_heading level0 col0\" >stroke</th>\n",
       "    </tr>\n",
       "    <tr>\n",
       "      <th class=\"index_name level0\" >gender</th>\n",
       "      <th class=\"index_name level1\" >Residence_type</th>\n",
       "      <th class=\"blank col0\" >&nbsp;</th>\n",
       "    </tr>\n",
       "  </thead>\n",
       "  <tbody>\n",
       "    <tr>\n",
       "      <th id=\"T_586c2_level0_row0\" class=\"row_heading level0 row0\" rowspan=\"2\">Female</th>\n",
       "      <th id=\"T_586c2_level1_row0\" class=\"row_heading level1 row0\" >Rural</th>\n",
       "      <td id=\"T_586c2_row0_col0\" class=\"data row0 col0\" >1465</td>\n",
       "    </tr>\n",
       "    <tr>\n",
       "      <th id=\"T_586c2_level1_row1\" class=\"row_heading level1 row1\" >Urban</th>\n",
       "      <td id=\"T_586c2_row1_col0\" class=\"data row1 col0\" >1529</td>\n",
       "    </tr>\n",
       "    <tr>\n",
       "      <th id=\"T_586c2_level0_row2\" class=\"row_heading level0 row2\" rowspan=\"2\">Male</th>\n",
       "      <th id=\"T_586c2_level1_row2\" class=\"row_heading level1 row2\" >Rural</th>\n",
       "      <td id=\"T_586c2_row2_col0\" class=\"data row2 col0\" >1048</td>\n",
       "    </tr>\n",
       "    <tr>\n",
       "      <th id=\"T_586c2_level1_row3\" class=\"row_heading level1 row3\" >Urban</th>\n",
       "      <td id=\"T_586c2_row3_col0\" class=\"data row3 col0\" >1067</td>\n",
       "    </tr>\n",
       "  </tbody>\n",
       "</table>\n"
      ],
      "text/plain": [
       "<pandas.io.formats.style.Styler at 0x7fe31db592b0>"
      ]
     },
     "execution_count": 322,
     "metadata": {},
     "output_type": "execute_result"
    }
   ],
   "source": [
    "gender_residence=pivot(data,'stroke',['gender', 'Residence_type'],'purple')\n",
    "gender_residence"
   ]
  },
  {
   "cell_type": "code",
   "execution_count": 323,
   "id": "06869912",
   "metadata": {},
   "outputs": [
    {
     "data": {
      "text/plain": [
       "'\\ncorrelation = data.corr()\\ndef heatmap(corr_matrix):\\n    sns.set(style=\"dark\")\\n    f, ax = plt.subplots(figsize=(11, 9))\\n    mask = np.zeros_like(corr_matrix, dtype=bool)\\n    mask[np.triu_indices_from(mask)] = True \\n    # Generate a custom diverging colormap\\n    cmap = sns.diverging_palette(20, 5, as_cmap=True)\\n    sns.heatmap(corr_matrix, mask=mask, cmap=cmap, ax=ax)\\nheatmap(correlation)\\n'"
      ]
     },
     "execution_count": 323,
     "metadata": {},
     "output_type": "execute_result"
    }
   ],
   "source": [
    "'''\n",
    "correlation = data.corr()\n",
    "def heatmap(corr_matrix):\n",
    "    sns.set(style=\"dark\")\n",
    "    f, ax = plt.subplots(figsize=(11, 9))\n",
    "    mask = np.zeros_like(corr_matrix, dtype=bool)\n",
    "    mask[np.triu_indices_from(mask)] = True \n",
    "    # Generate a custom diverging colormap\n",
    "    cmap = sns.diverging_palette(20, 5, as_cmap=True)\n",
    "    sns.heatmap(corr_matrix, mask=mask, cmap=cmap, ax=ax)\n",
    "heatmap(correlation)\n",
    "'''"
   ]
  },
  {
   "cell_type": "markdown",
   "id": "3a31ada1",
   "metadata": {},
   "source": [
    "# Outliers "
   ]
  },
  {
   "cell_type": "code",
   "execution_count": 324,
   "id": "7db6b861",
   "metadata": {},
   "outputs": [],
   "source": [
    "def box_plot(data,x,y):\n",
    "    f, ax = plt.subplots(figsize=(6.5, 6.5))\n",
    "    sns.boxplot(x=x, y=y,\n",
    "                data=data, ax=ax)"
   ]
  },
  {
   "cell_type": "code",
   "execution_count": 325,
   "id": "6b2c5b5e",
   "metadata": {},
   "outputs": [
    {
     "data": {
      "image/png": "[encoded data removed]",
      "text/plain": [
       "<Figure size 468x468 with 1 Axes>"
      ]
     },
     "metadata": {},
     "output_type": "display_data"
    }
   ],
   "source": [
    "box_plot(data,\"stroke\",\"age\")"
   ]
  },
  {
   "cell_type": "code",
   "execution_count": 326,
   "id": "ac26ea4a",
   "metadata": {},
   "outputs": [
    {
     "data": {
      "image/png": "[encoded data removed]",
      "text/plain": [
       "<Figure size 468x468 with 1 Axes>"
      ]
     },
     "metadata": {},
     "output_type": "display_data"
    }
   ],
   "source": [
    "box_plot(data,\"stroke\",\"bmi\")"
   ]
  },
  {
   "cell_type": "code",
   "execution_count": 327,
   "id": "195e8e53",
   "metadata": {},
   "outputs": [
    {
     "data": {
      "image/png": "[encoded data removed]",
      "text/plain": [
       "<Figure size 468x468 with 1 Axes>"
      ]
     },
     "metadata": {},
     "output_type": "display_data"
    }
   ],
   "source": [
    "box_plot(data,\"stroke\",\"avg_glucose_level\")"
   ]
  },
  {
   "cell_type": "code",
   "execution_count": 328,
   "id": "09c3cca3",
   "metadata": {},
   "outputs": [],
   "source": [
    "def iqr(data):\n",
    "    global outliers\n",
    "    outliers = []\n",
    "    Q1 = np.percentile(data, 25, method = 'midpoint')\n",
    "    Q2 = np.percentile(data, 50, method = 'midpoint')  \n",
    "    Q3 = np.percentile(data, 75, method = 'midpoint')\n",
    "    IQR = Q3 - Q1\n",
    "    low_lim = Q1 - 1.5 * IQR\n",
    "    up_lim = Q3 + 1.5 * IQR\n",
    "    for x in data:\n",
    "        if (x> up_lim):\n",
    "            data.replace(x,up_lim,inplace=True)\n",
    "            outliers.append(x)\n",
    "        elif(x<low_lim):\n",
    "            data.replace(x,low_lim,inplace=True)\n",
    "            outliers.append(x)\n",
    "   \n",
    "    return data"
   ]
  },
  {
   "cell_type": "code",
   "execution_count": 329,
   "id": "13ab61e7",
   "metadata": {},
   "outputs": [],
   "source": [
    "age_outlier_imputation=iqr(data['age'])\n",
    "avg_glucose_level_outlier__imputation=iqr(data['avg_glucose_level'])\n",
    "bmi_outlier_imputation=iqr(data['bmi'])"
   ]
  },
  {
   "cell_type": "code",
   "execution_count": 330,
   "id": "1ecb6356",
   "metadata": {},
   "outputs": [
    {
     "data": {
      "image/png": "[encoded data removed]",
      "text/plain": [
       "<Figure size 468x468 with 1 Axes>"
      ]
     },
     "metadata": {},
     "output_type": "display_data"
    }
   ],
   "source": [
    "box_plot(data,\"stroke\",\"avg_glucose_level\")"
   ]
  },
  {
   "cell_type": "code",
   "execution_count": 331,
   "id": "13557229",
   "metadata": {},
   "outputs": [
    {
     "data": {
      "image/png": "[encoded data removed]",
      "text/plain": [
       "<Figure size 468x468 with 1 Axes>"
      ]
     },
     "metadata": {},
     "output_type": "display_data"
    }
   ],
   "source": [
    "box_plot(data,\"stroke\",\"age\")"
   ]
  },
  {
   "cell_type": "code",
   "execution_count": 332,
   "id": "48704ad5",
   "metadata": {},
   "outputs": [
    {
     "data": {
      "image/png": "[encoded data removed]",
      "text/plain": [
       "<Figure size 468x468 with 1 Axes>"
      ]
     },
     "metadata": {},
     "output_type": "display_data"
    }
   ],
   "source": [
    "box_plot(data,\"stroke\",\"bmi\")"
   ]
  },
  {
   "cell_type": "code",
   "execution_count": 333,
   "id": "b5ace899",
   "metadata": {},
   "outputs": [],
   "source": [
    "X = data.drop('stroke', axis=1)\n",
    "y = data['stroke']\n",
    "X_train, X_test, y_train, y_test = train_test_split(X, y, test_size=0.25)"
   ]
  },
  {
   "cell_type": "code",
   "execution_count": 334,
   "id": "1cfd3180",
   "metadata": {},
   "outputs": [],
   "source": [
    "numeric_transformer = Pipeline(steps=[\n",
    "     ('scaler', StandardScaler())])\n",
    "categorical_transformer = Pipeline(steps=[\n",
    "    ('onehot', OneHotEncoder(handle_unknown='ignore'))])\n",
    "numeric_features = data.select_dtypes(include=['int64', 'float64']).drop(['stroke'],axis=1).columns\n",
    "categorical_features = data.select_dtypes(include=['object']).columns\n",
    "preprocessor = ColumnTransformer(\n",
    "    transformers=[\n",
    "        ('num', numeric_transformer, numeric_features),\n",
    "        ('cat', categorical_transformer, categorical_features)])"
   ]
  },
  {
   "cell_type": "code",
   "execution_count": 335,
   "id": "bd7a2d85",
   "metadata": {},
   "outputs": [
    {
     "data": {
      "text/html": [
       "<style>#sk-container-id-10 {color: black;background-color: white;}#sk-container-id-10 pre{padding: 0;}#sk-container-id-10 div.sk-toggleable {background-color: white;}#sk-container-id-10 label.sk-toggleable__label {cursor: pointer;display: block;width: 100%;margin-bottom: 0;padding: 0.3em;box-sizing: border-box;text-align: center;}#sk-container-id-10 label.sk-toggleable__label-arrow:before {content: \"▸\";float: left;margin-right: 0.25em;color: #696969;}#sk-container-id-10 label.sk-toggleable__label-arrow:hover:before {color: black;}#sk-container-id-10 div.sk-estimator:hover label.sk-toggleable__label-arrow:before {color: black;}#sk-container-id-10 div.sk-toggleable__content {max-height: 0;max-width: 0;overflow: hidden;text-align: left;background-color: #f0f8ff;}#sk-container-id-10 div.sk-toggleable__content pre {margin: 0.2em;color: black;border-radius: 0.25em;background-color: #f0f8ff;}#sk-container-id-10 input.sk-toggleable__control:checked~div.sk-toggleable__content {max-height: 200px;max-width: 100%;overflow: auto;}#sk-container-id-10 input.sk-toggleable__control:checked~label.sk-toggleable__label-arrow:before {content: \"▾\";}#sk-container-id-10 div.sk-estimator input.sk-toggleable__control:checked~label.sk-toggleable__label {background-color: #d4ebff;}#sk-container-id-10 div.sk-label input.sk-toggleable__control:checked~label.sk-toggleable__label {background-color: #d4ebff;}#sk-container-id-10 input.sk-hidden--visually {border: 0;clip: rect(1px 1px 1px 1px);clip: rect(1px, 1px, 1px, 1px);height: 1px;margin: -1px;overflow: hidden;padding: 0;position: absolute;width: 1px;}#sk-container-id-10 div.sk-estimator {font-family: monospace;background-color: #f0f8ff;border: 1px dotted black;border-radius: 0.25em;box-sizing: border-box;margin-bottom: 0.5em;}#sk-container-id-10 div.sk-estimator:hover {background-color: #d4ebff;}#sk-container-id-10 div.sk-parallel-item::after {content: \"\";width: 100%;border-bottom: 1px solid gray;flex-grow: 1;}#sk-container-id-10 div.sk-label:hover label.sk-toggleable__label {background-color: #d4ebff;}#sk-container-id-10 div.sk-serial::before {content: \"\";position: absolute;border-left: 1px solid gray;box-sizing: border-box;top: 0;bottom: 0;left: 50%;z-index: 0;}#sk-container-id-10 div.sk-serial {display: flex;flex-direction: column;align-items: center;background-color: white;padding-right: 0.2em;padding-left: 0.2em;position: relative;}#sk-container-id-10 div.sk-item {position: relative;z-index: 1;}#sk-container-id-10 div.sk-parallel {display: flex;align-items: stretch;justify-content: center;background-color: white;position: relative;}#sk-container-id-10 div.sk-item::before, #sk-container-id-10 div.sk-parallel-item::before {content: \"\";position: absolute;border-left: 1px solid gray;box-sizing: border-box;top: 0;bottom: 0;left: 50%;z-index: -1;}#sk-container-id-10 div.sk-parallel-item {display: flex;flex-direction: column;z-index: 1;position: relative;background-color: white;}#sk-container-id-10 div.sk-parallel-item:first-child::after {align-self: flex-end;width: 50%;}#sk-container-id-10 div.sk-parallel-item:last-child::after {align-self: flex-start;width: 50%;}#sk-container-id-10 div.sk-parallel-item:only-child::after {width: 0;}#sk-container-id-10 div.sk-dashed-wrapped {border: 1px dashed gray;margin: 0 0.4em 0.5em 0.4em;box-sizing: border-box;padding-bottom: 0.4em;background-color: white;}#sk-container-id-10 div.sk-label label {font-family: monospace;font-weight: bold;display: inline-block;line-height: 1.2em;}#sk-container-id-10 div.sk-label-container {text-align: center;}#sk-container-id-10 div.sk-container {/* jupyter's `normalize.less` sets `[hidden] { display: none; }` but bootstrap.min.css set `[hidden] { display: none !important; }` so we also need the `!important` here to be able to override the default hidden behavior on the sphinx rendered scikit-learn.org. See: https://github.com/scikit-learn/scikit-learn/issues/21755 */display: inline-block !important;position: relative;}#sk-container-id-10 div.sk-text-repr-fallback {display: none;}</style><div id=\"sk-container-id-10\" class=\"sk-top-container\"><div class=\"sk-text-repr-fallback\"><pre>Pipeline(steps=[(&#x27;preprocessor&#x27;,\n",
       "                 ColumnTransformer(transformers=[(&#x27;num&#x27;,\n",
       "                                                  Pipeline(steps=[(&#x27;scaler&#x27;,\n",
       "                                                                   StandardScaler())]),\n",
       "                                                  Index([&#x27;id&#x27;, &#x27;age&#x27;, &#x27;hypertension&#x27;, &#x27;heart_disease&#x27;, &#x27;avg_glucose_level&#x27;,\n",
       "       &#x27;bmi&#x27;],\n",
       "      dtype=&#x27;object&#x27;)),\n",
       "                                                 (&#x27;cat&#x27;,\n",
       "                                                  Pipeline(steps=[(&#x27;onehot&#x27;,\n",
       "                                                                   OneHotEncoder(handle_unknown=&#x27;ignore&#x27;))]),\n",
       "                                                  Index([&#x27;gender&#x27;, &#x27;ever_married&#x27;, &#x27;work_type&#x27;, &#x27;Residence_type&#x27;,\n",
       "       &#x27;smoking_status&#x27;],\n",
       "      dtype=&#x27;object&#x27;))])),\n",
       "                (&#x27;classifier&#x27;, RandomForestClassifier(random_state=0))])</pre><b>In a Jupyter environment, please rerun this cell to show the HTML representation or trust the notebook. <br />On GitHub, the HTML representation is unable to render, please try loading this page with nbviewer.org.</b></div><div class=\"sk-container\" hidden><div class=\"sk-item sk-dashed-wrapped\"><div class=\"sk-label-container\"><div class=\"sk-label sk-toggleable\"><input class=\"sk-toggleable__control sk-hidden--visually\" id=\"sk-estimator-id-64\" type=\"checkbox\" ><label for=\"sk-estimator-id-64\" class=\"sk-toggleable__label sk-toggleable__label-arrow\">Pipeline</label><div class=\"sk-toggleable__content\"><pre>Pipeline(steps=[(&#x27;preprocessor&#x27;,\n",
       "                 ColumnTransformer(transformers=[(&#x27;num&#x27;,\n",
       "                                                  Pipeline(steps=[(&#x27;scaler&#x27;,\n",
       "                                                                   StandardScaler())]),\n",
       "                                                  Index([&#x27;id&#x27;, &#x27;age&#x27;, &#x27;hypertension&#x27;, &#x27;heart_disease&#x27;, &#x27;avg_glucose_level&#x27;,\n",
       "       &#x27;bmi&#x27;],\n",
       "      dtype=&#x27;object&#x27;)),\n",
       "                                                 (&#x27;cat&#x27;,\n",
       "                                                  Pipeline(steps=[(&#x27;onehot&#x27;,\n",
       "                                                                   OneHotEncoder(handle_unknown=&#x27;ignore&#x27;))]),\n",
       "                                                  Index([&#x27;gender&#x27;, &#x27;ever_married&#x27;, &#x27;work_type&#x27;, &#x27;Residence_type&#x27;,\n",
       "       &#x27;smoking_status&#x27;],\n",
       "      dtype=&#x27;object&#x27;))])),\n",
       "                (&#x27;classifier&#x27;, RandomForestClassifier(random_state=0))])</pre></div></div></div><div class=\"sk-serial\"><div class=\"sk-item sk-dashed-wrapped\"><div class=\"sk-label-container\"><div class=\"sk-label sk-toggleable\"><input class=\"sk-toggleable__control sk-hidden--visually\" id=\"sk-estimator-id-65\" type=\"checkbox\" ><label for=\"sk-estimator-id-65\" class=\"sk-toggleable__label sk-toggleable__label-arrow\">preprocessor: ColumnTransformer</label><div class=\"sk-toggleable__content\"><pre>ColumnTransformer(transformers=[(&#x27;num&#x27;,\n",
       "                                 Pipeline(steps=[(&#x27;scaler&#x27;, StandardScaler())]),\n",
       "                                 Index([&#x27;id&#x27;, &#x27;age&#x27;, &#x27;hypertension&#x27;, &#x27;heart_disease&#x27;, &#x27;avg_glucose_level&#x27;,\n",
       "       &#x27;bmi&#x27;],\n",
       "      dtype=&#x27;object&#x27;)),\n",
       "                                (&#x27;cat&#x27;,\n",
       "                                 Pipeline(steps=[(&#x27;onehot&#x27;,\n",
       "                                                  OneHotEncoder(handle_unknown=&#x27;ignore&#x27;))]),\n",
       "                                 Index([&#x27;gender&#x27;, &#x27;ever_married&#x27;, &#x27;work_type&#x27;, &#x27;Residence_type&#x27;,\n",
       "       &#x27;smoking_status&#x27;],\n",
       "      dtype=&#x27;object&#x27;))])</pre></div></div></div><div class=\"sk-parallel\"><div class=\"sk-parallel-item\"><div class=\"sk-item\"><div class=\"sk-label-container\"><div class=\"sk-label sk-toggleable\"><input class=\"sk-toggleable__control sk-hidden--visually\" id=\"sk-estimator-id-66\" type=\"checkbox\" ><label for=\"sk-estimator-id-66\" class=\"sk-toggleable__label sk-toggleable__label-arrow\">num</label><div class=\"sk-toggleable__content\"><pre>Index([&#x27;id&#x27;, &#x27;age&#x27;, &#x27;hypertension&#x27;, &#x27;heart_disease&#x27;, &#x27;avg_glucose_level&#x27;,\n",
       "       &#x27;bmi&#x27;],\n",
       "      dtype=&#x27;object&#x27;)</pre></div></div></div><div class=\"sk-serial\"><div class=\"sk-item\"><div class=\"sk-serial\"><div class=\"sk-item\"><div class=\"sk-estimator sk-toggleable\"><input class=\"sk-toggleable__control sk-hidden--visually\" id=\"sk-estimator-id-67\" type=\"checkbox\" ><label for=\"sk-estimator-id-67\" class=\"sk-toggleable__label sk-toggleable__label-arrow\">StandardScaler</label><div class=\"sk-toggleable__content\"><pre>StandardScaler()</pre></div></div></div></div></div></div></div></div><div class=\"sk-parallel-item\"><div class=\"sk-item\"><div class=\"sk-label-container\"><div class=\"sk-label sk-toggleable\"><input class=\"sk-toggleable__control sk-hidden--visually\" id=\"sk-estimator-id-68\" type=\"checkbox\" ><label for=\"sk-estimator-id-68\" class=\"sk-toggleable__label sk-toggleable__label-arrow\">cat</label><div class=\"sk-toggleable__content\"><pre>Index([&#x27;gender&#x27;, &#x27;ever_married&#x27;, &#x27;work_type&#x27;, &#x27;Residence_type&#x27;,\n",
       "       &#x27;smoking_status&#x27;],\n",
       "      dtype=&#x27;object&#x27;)</pre></div></div></div><div class=\"sk-serial\"><div class=\"sk-item\"><div class=\"sk-serial\"><div class=\"sk-item\"><div class=\"sk-estimator sk-toggleable\"><input class=\"sk-toggleable__control sk-hidden--visually\" id=\"sk-estimator-id-69\" type=\"checkbox\" ><label for=\"sk-estimator-id-69\" class=\"sk-toggleable__label sk-toggleable__label-arrow\">OneHotEncoder</label><div class=\"sk-toggleable__content\"><pre>OneHotEncoder(handle_unknown=&#x27;ignore&#x27;)</pre></div></div></div></div></div></div></div></div></div></div><div class=\"sk-item\"><div class=\"sk-estimator sk-toggleable\"><input class=\"sk-toggleable__control sk-hidden--visually\" id=\"sk-estimator-id-70\" type=\"checkbox\" ><label for=\"sk-estimator-id-70\" class=\"sk-toggleable__label sk-toggleable__label-arrow\">RandomForestClassifier</label><div class=\"sk-toggleable__content\"><pre>RandomForestClassifier(random_state=0)</pre></div></div></div></div></div></div></div>"
      ],
      "text/plain": [
       "Pipeline(steps=[('preprocessor',\n",
       "                 ColumnTransformer(transformers=[('num',\n",
       "                                                  Pipeline(steps=[('scaler',\n",
       "                                                                   StandardScaler())]),\n",
       "                                                  Index(['id', 'age', 'hypertension', 'heart_disease', 'avg_glucose_level',\n",
       "       'bmi'],\n",
       "      dtype='object')),\n",
       "                                                 ('cat',\n",
       "                                                  Pipeline(steps=[('onehot',\n",
       "                                                                   OneHotEncoder(handle_unknown='ignore'))]),\n",
       "                                                  Index(['gender', 'ever_married', 'work_type', 'Residence_type',\n",
       "       'smoking_status'],\n",
       "      dtype='object'))])),\n",
       "                ('classifier', RandomForestClassifier(random_state=0))])"
      ]
     },
     "execution_count": 335,
     "metadata": {},
     "output_type": "execute_result"
    }
   ],
   "source": [
    "rf = Pipeline(steps=[('preprocessor', preprocessor),\n",
    "                      ('classifier', RandomForestClassifier(random_state = 0))])\n",
    "rf.fit(X_train, y_train)"
   ]
  },
  {
   "cell_type": "code",
   "execution_count": 336,
   "id": "b05b2401",
   "metadata": {},
   "outputs": [],
   "source": [
    "y_pred = rf.predict(X_test)"
   ]
  },
  {
   "cell_type": "code",
   "execution_count": 345,
   "id": "c4020365",
   "metadata": {},
   "outputs": [
    {
     "name": "stdout",
     "output_type": "stream",
     "text": [
      "Accuracy of the model:  0.945226917057903\n",
      "Precision of the model:  0.945226917057903\n",
      "Recall of the model:  0.945226917057903\n",
      "F1_Score of the model:  0.945226917057903\n",
      "MSE:  0.054773082942097026\n"
     ]
    }
   ],
   "source": [
    "print(\"Accuracy of the model: \",accuracy_score(y_pred, y_test))\n",
    "print(\"Precision of the model: \",precision_score(y_pred, y_test,average='micro'))\n",
    "print(\"Recall of the model: \",recall_score(y_pred, y_test,average='micro'))\n",
    "print(\"F1_Score of the model: \",f1_score(y_pred, y_test,average='micro'))\n",
    "print(\"MSE: \",mean_squared_error(y_pred, y_test))"
   ]
  },
  {
   "cell_type": "code",
   "execution_count": 346,
   "id": "560b5720",
   "metadata": {},
   "outputs": [
    {
     "name": "stdout",
     "output_type": "stream",
     "text": [
      "Fitting 5 folds for each of 50 candidates, totalling 250 fits\n",
      "{'classifier__n_estimators': 30, 'classifier__max_features': 'sqrt', 'classifier__max_depth': 11, 'classifier__criterion': 'entropy'}\n"
     ]
    }
   ],
   "source": [
    "random_search = {'classifier__n_estimators':np.arange(5,100,5),\n",
    "                 'classifier__max_features': ['sqrt', 'log2'],\n",
    "                 'classifier__criterion' :['gini', 'entropy'],\n",
    "                 'classifier__max_depth' : [4,5,6,7,8,9,10,11,12]\n",
    "                 }                           \n",
    "CV = RandomizedSearchCV(rf, random_search, cv=5, scoring=\"r2\",\n",
    "                        verbose=1,n_jobs=-1,n_iter=50, random_state = 0)\n",
    "CV.fit(X_train, y_train) \n",
    "print(CV.best_params_)    "
   ]
  },
  {
   "cell_type": "code",
   "execution_count": 347,
   "id": "c2a7304a",
   "metadata": {},
   "outputs": [],
   "source": [
    "rf2 = Pipeline(steps=[('preprocessor', preprocessor),\n",
    "                      ('classifier', RandomForestClassifier(n_estimators= 30,\n",
    "                                                             max_features= 'sqrt', \n",
    "                                                             max_depth= 11, \n",
    "                                                             criterion= 'gini',\n",
    "                                                            verbose=1,n_jobs=-1,\n",
    "                                                            random_state = 0))])"
   ]
  },
  {
   "cell_type": "code",
   "execution_count": 348,
   "id": "9c74d649",
   "metadata": {},
   "outputs": [
    {
     "name": "stderr",
     "output_type": "stream",
     "text": [
      "[Parallel(n_jobs=-1)]: Using backend ThreadingBackend with 8 concurrent workers.\n",
      "[Parallel(n_jobs=-1)]: Done  30 out of  30 | elapsed:    0.1s finished\n"
     ]
    },
    {
     "data": {
      "text/html": [
       "<style>#sk-container-id-12 {color: black;background-color: white;}#sk-container-id-12 pre{padding: 0;}#sk-container-id-12 div.sk-toggleable {background-color: white;}#sk-container-id-12 label.sk-toggleable__label {cursor: pointer;display: block;width: 100%;margin-bottom: 0;padding: 0.3em;box-sizing: border-box;text-align: center;}#sk-container-id-12 label.sk-toggleable__label-arrow:before {content: \"▸\";float: left;margin-right: 0.25em;color: #696969;}#sk-container-id-12 label.sk-toggleable__label-arrow:hover:before {color: black;}#sk-container-id-12 div.sk-estimator:hover label.sk-toggleable__label-arrow:before {color: black;}#sk-container-id-12 div.sk-toggleable__content {max-height: 0;max-width: 0;overflow: hidden;text-align: left;background-color: #f0f8ff;}#sk-container-id-12 div.sk-toggleable__content pre {margin: 0.2em;color: black;border-radius: 0.25em;background-color: #f0f8ff;}#sk-container-id-12 input.sk-toggleable__control:checked~div.sk-toggleable__content {max-height: 200px;max-width: 100%;overflow: auto;}#sk-container-id-12 input.sk-toggleable__control:checked~label.sk-toggleable__label-arrow:before {content: \"▾\";}#sk-container-id-12 div.sk-estimator input.sk-toggleable__control:checked~label.sk-toggleable__label {background-color: #d4ebff;}#sk-container-id-12 div.sk-label input.sk-toggleable__control:checked~label.sk-toggleable__label {background-color: #d4ebff;}#sk-container-id-12 input.sk-hidden--visually {border: 0;clip: rect(1px 1px 1px 1px);clip: rect(1px, 1px, 1px, 1px);height: 1px;margin: -1px;overflow: hidden;padding: 0;position: absolute;width: 1px;}#sk-container-id-12 div.sk-estimator {font-family: monospace;background-color: #f0f8ff;border: 1px dotted black;border-radius: 0.25em;box-sizing: border-box;margin-bottom: 0.5em;}#sk-container-id-12 div.sk-estimator:hover {background-color: #d4ebff;}#sk-container-id-12 div.sk-parallel-item::after {content: \"\";width: 100%;border-bottom: 1px solid gray;flex-grow: 1;}#sk-container-id-12 div.sk-label:hover label.sk-toggleable__label {background-color: #d4ebff;}#sk-container-id-12 div.sk-serial::before {content: \"\";position: absolute;border-left: 1px solid gray;box-sizing: border-box;top: 0;bottom: 0;left: 50%;z-index: 0;}#sk-container-id-12 div.sk-serial {display: flex;flex-direction: column;align-items: center;background-color: white;padding-right: 0.2em;padding-left: 0.2em;position: relative;}#sk-container-id-12 div.sk-item {position: relative;z-index: 1;}#sk-container-id-12 div.sk-parallel {display: flex;align-items: stretch;justify-content: center;background-color: white;position: relative;}#sk-container-id-12 div.sk-item::before, #sk-container-id-12 div.sk-parallel-item::before {content: \"\";position: absolute;border-left: 1px solid gray;box-sizing: border-box;top: 0;bottom: 0;left: 50%;z-index: -1;}#sk-container-id-12 div.sk-parallel-item {display: flex;flex-direction: column;z-index: 1;position: relative;background-color: white;}#sk-container-id-12 div.sk-parallel-item:first-child::after {align-self: flex-end;width: 50%;}#sk-container-id-12 div.sk-parallel-item:last-child::after {align-self: flex-start;width: 50%;}#sk-container-id-12 div.sk-parallel-item:only-child::after {width: 0;}#sk-container-id-12 div.sk-dashed-wrapped {border: 1px dashed gray;margin: 0 0.4em 0.5em 0.4em;box-sizing: border-box;padding-bottom: 0.4em;background-color: white;}#sk-container-id-12 div.sk-label label {font-family: monospace;font-weight: bold;display: inline-block;line-height: 1.2em;}#sk-container-id-12 div.sk-label-container {text-align: center;}#sk-container-id-12 div.sk-container {/* jupyter's `normalize.less` sets `[hidden] { display: none; }` but bootstrap.min.css set `[hidden] { display: none !important; }` so we also need the `!important` here to be able to override the default hidden behavior on the sphinx rendered scikit-learn.org. See: https://github.com/scikit-learn/scikit-learn/issues/21755 */display: inline-block !important;position: relative;}#sk-container-id-12 div.sk-text-repr-fallback {display: none;}</style><div id=\"sk-container-id-12\" class=\"sk-top-container\"><div class=\"sk-text-repr-fallback\"><pre>Pipeline(steps=[(&#x27;preprocessor&#x27;,\n",
       "                 ColumnTransformer(transformers=[(&#x27;num&#x27;,\n",
       "                                                  Pipeline(steps=[(&#x27;scaler&#x27;,\n",
       "                                                                   StandardScaler())]),\n",
       "                                                  Index([&#x27;id&#x27;, &#x27;age&#x27;, &#x27;hypertension&#x27;, &#x27;heart_disease&#x27;, &#x27;avg_glucose_level&#x27;,\n",
       "       &#x27;bmi&#x27;],\n",
       "      dtype=&#x27;object&#x27;)),\n",
       "                                                 (&#x27;cat&#x27;,\n",
       "                                                  Pipeline(steps=[(&#x27;onehot&#x27;,\n",
       "                                                                   OneHotEncoder(handle_unknown=&#x27;ignore&#x27;))]),\n",
       "                                                  Index([&#x27;gender&#x27;, &#x27;ever_married&#x27;, &#x27;work_type&#x27;, &#x27;Residence_type&#x27;,\n",
       "       &#x27;smoking_status&#x27;],\n",
       "      dtype=&#x27;object&#x27;))])),\n",
       "                (&#x27;classifier&#x27;,\n",
       "                 RandomForestClassifier(max_depth=11, n_estimators=30,\n",
       "                                        n_jobs=-1, random_state=0,\n",
       "                                        verbose=1))])</pre><b>In a Jupyter environment, please rerun this cell to show the HTML representation or trust the notebook. <br />On GitHub, the HTML representation is unable to render, please try loading this page with nbviewer.org.</b></div><div class=\"sk-container\" hidden><div class=\"sk-item sk-dashed-wrapped\"><div class=\"sk-label-container\"><div class=\"sk-label sk-toggleable\"><input class=\"sk-toggleable__control sk-hidden--visually\" id=\"sk-estimator-id-78\" type=\"checkbox\" ><label for=\"sk-estimator-id-78\" class=\"sk-toggleable__label sk-toggleable__label-arrow\">Pipeline</label><div class=\"sk-toggleable__content\"><pre>Pipeline(steps=[(&#x27;preprocessor&#x27;,\n",
       "                 ColumnTransformer(transformers=[(&#x27;num&#x27;,\n",
       "                                                  Pipeline(steps=[(&#x27;scaler&#x27;,\n",
       "                                                                   StandardScaler())]),\n",
       "                                                  Index([&#x27;id&#x27;, &#x27;age&#x27;, &#x27;hypertension&#x27;, &#x27;heart_disease&#x27;, &#x27;avg_glucose_level&#x27;,\n",
       "       &#x27;bmi&#x27;],\n",
       "      dtype=&#x27;object&#x27;)),\n",
       "                                                 (&#x27;cat&#x27;,\n",
       "                                                  Pipeline(steps=[(&#x27;onehot&#x27;,\n",
       "                                                                   OneHotEncoder(handle_unknown=&#x27;ignore&#x27;))]),\n",
       "                                                  Index([&#x27;gender&#x27;, &#x27;ever_married&#x27;, &#x27;work_type&#x27;, &#x27;Residence_type&#x27;,\n",
       "       &#x27;smoking_status&#x27;],\n",
       "      dtype=&#x27;object&#x27;))])),\n",
       "                (&#x27;classifier&#x27;,\n",
       "                 RandomForestClassifier(max_depth=11, n_estimators=30,\n",
       "                                        n_jobs=-1, random_state=0,\n",
       "                                        verbose=1))])</pre></div></div></div><div class=\"sk-serial\"><div class=\"sk-item sk-dashed-wrapped\"><div class=\"sk-label-container\"><div class=\"sk-label sk-toggleable\"><input class=\"sk-toggleable__control sk-hidden--visually\" id=\"sk-estimator-id-79\" type=\"checkbox\" ><label for=\"sk-estimator-id-79\" class=\"sk-toggleable__label sk-toggleable__label-arrow\">preprocessor: ColumnTransformer</label><div class=\"sk-toggleable__content\"><pre>ColumnTransformer(transformers=[(&#x27;num&#x27;,\n",
       "                                 Pipeline(steps=[(&#x27;scaler&#x27;, StandardScaler())]),\n",
       "                                 Index([&#x27;id&#x27;, &#x27;age&#x27;, &#x27;hypertension&#x27;, &#x27;heart_disease&#x27;, &#x27;avg_glucose_level&#x27;,\n",
       "       &#x27;bmi&#x27;],\n",
       "      dtype=&#x27;object&#x27;)),\n",
       "                                (&#x27;cat&#x27;,\n",
       "                                 Pipeline(steps=[(&#x27;onehot&#x27;,\n",
       "                                                  OneHotEncoder(handle_unknown=&#x27;ignore&#x27;))]),\n",
       "                                 Index([&#x27;gender&#x27;, &#x27;ever_married&#x27;, &#x27;work_type&#x27;, &#x27;Residence_type&#x27;,\n",
       "       &#x27;smoking_status&#x27;],\n",
       "      dtype=&#x27;object&#x27;))])</pre></div></div></div><div class=\"sk-parallel\"><div class=\"sk-parallel-item\"><div class=\"sk-item\"><div class=\"sk-label-container\"><div class=\"sk-label sk-toggleable\"><input class=\"sk-toggleable__control sk-hidden--visually\" id=\"sk-estimator-id-80\" type=\"checkbox\" ><label for=\"sk-estimator-id-80\" class=\"sk-toggleable__label sk-toggleable__label-arrow\">num</label><div class=\"sk-toggleable__content\"><pre>Index([&#x27;id&#x27;, &#x27;age&#x27;, &#x27;hypertension&#x27;, &#x27;heart_disease&#x27;, &#x27;avg_glucose_level&#x27;,\n",
       "       &#x27;bmi&#x27;],\n",
       "      dtype=&#x27;object&#x27;)</pre></div></div></div><div class=\"sk-serial\"><div class=\"sk-item\"><div class=\"sk-serial\"><div class=\"sk-item\"><div class=\"sk-estimator sk-toggleable\"><input class=\"sk-toggleable__control sk-hidden--visually\" id=\"sk-estimator-id-81\" type=\"checkbox\" ><label for=\"sk-estimator-id-81\" class=\"sk-toggleable__label sk-toggleable__label-arrow\">StandardScaler</label><div class=\"sk-toggleable__content\"><pre>StandardScaler()</pre></div></div></div></div></div></div></div></div><div class=\"sk-parallel-item\"><div class=\"sk-item\"><div class=\"sk-label-container\"><div class=\"sk-label sk-toggleable\"><input class=\"sk-toggleable__control sk-hidden--visually\" id=\"sk-estimator-id-82\" type=\"checkbox\" ><label for=\"sk-estimator-id-82\" class=\"sk-toggleable__label sk-toggleable__label-arrow\">cat</label><div class=\"sk-toggleable__content\"><pre>Index([&#x27;gender&#x27;, &#x27;ever_married&#x27;, &#x27;work_type&#x27;, &#x27;Residence_type&#x27;,\n",
       "       &#x27;smoking_status&#x27;],\n",
       "      dtype=&#x27;object&#x27;)</pre></div></div></div><div class=\"sk-serial\"><div class=\"sk-item\"><div class=\"sk-serial\"><div class=\"sk-item\"><div class=\"sk-estimator sk-toggleable\"><input class=\"sk-toggleable__control sk-hidden--visually\" id=\"sk-estimator-id-83\" type=\"checkbox\" ><label for=\"sk-estimator-id-83\" class=\"sk-toggleable__label sk-toggleable__label-arrow\">OneHotEncoder</label><div class=\"sk-toggleable__content\"><pre>OneHotEncoder(handle_unknown=&#x27;ignore&#x27;)</pre></div></div></div></div></div></div></div></div></div></div><div class=\"sk-item\"><div class=\"sk-estimator sk-toggleable\"><input class=\"sk-toggleable__control sk-hidden--visually\" id=\"sk-estimator-id-84\" type=\"checkbox\" ><label for=\"sk-estimator-id-84\" class=\"sk-toggleable__label sk-toggleable__label-arrow\">RandomForestClassifier</label><div class=\"sk-toggleable__content\"><pre>RandomForestClassifier(max_depth=11, n_estimators=30, n_jobs=-1, random_state=0,\n",
       "                       verbose=1)</pre></div></div></div></div></div></div></div>"
      ],
      "text/plain": [
       "Pipeline(steps=[('preprocessor',\n",
       "                 ColumnTransformer(transformers=[('num',\n",
       "                                                  Pipeline(steps=[('scaler',\n",
       "                                                                   StandardScaler())]),\n",
       "                                                  Index(['id', 'age', 'hypertension', 'heart_disease', 'avg_glucose_level',\n",
       "       'bmi'],\n",
       "      dtype='object')),\n",
       "                                                 ('cat',\n",
       "                                                  Pipeline(steps=[('onehot',\n",
       "                                                                   OneHotEncoder(handle_unknown='ignore'))]),\n",
       "                                                  Index(['gender', 'ever_married', 'work_type', 'Residence_type',\n",
       "       'smoking_status'],\n",
       "      dtype='object'))])),\n",
       "                ('classifier',\n",
       "                 RandomForestClassifier(max_depth=11, n_estimators=30,\n",
       "                                        n_jobs=-1, random_state=0,\n",
       "                                        verbose=1))])"
      ]
     },
     "execution_count": 348,
     "metadata": {},
     "output_type": "execute_result"
    }
   ],
   "source": [
    "rf2.fit(X_train, y_train)"
   ]
  },
  {
   "cell_type": "code",
   "execution_count": 349,
   "id": "0125ca25",
   "metadata": {},
   "outputs": [
    {
     "name": "stderr",
     "output_type": "stream",
     "text": [
      "[Parallel(n_jobs=8)]: Using backend ThreadingBackend with 8 concurrent workers.\n",
      "[Parallel(n_jobs=8)]: Done  30 out of  30 | elapsed:    0.0s finished\n"
     ]
    }
   ],
   "source": [
    "y_pred_best = rf2.predict(X_test)"
   ]
  },
  {
   "cell_type": "code",
   "execution_count": 351,
   "id": "b5ce9e80",
   "metadata": {},
   "outputs": [
    {
     "name": "stdout",
     "output_type": "stream",
     "text": [
      "Accuracy of the model:  0.9444444444444444\n",
      "Precision of the model:  0.9444444444444444\n",
      "Recall of the model:  0.9444444444444444\n",
      "F1_Score of the model:  0.9444444444444444\n",
      "MSE:  0.05555555555555555\n"
     ]
    }
   ],
   "source": [
    "print(\"Accuracy of the model: \",accuracy_score(y_pred_best, y_test))\n",
    "print(\"Precision of the model: \",precision_score(y_pred_best, y_test,average='micro'))\n",
    "print(\"Recall of the model: \",recall_score(y_pred_best, y_test,average='micro'))\n",
    "print(\"F1_Score of the model: \",f1_score(y_pred_best, y_test,average='micro'))\n",
    "print(\"MSE: \",mean_squared_error(y_pred_best, y_test))"
   ]
  },
  {
   "cell_type": "code",
   "execution_count": 344,
   "id": "ddd8a26d",
   "metadata": {},
   "outputs": [],
   "source": [
    "pickle.dump(rf, open('model_random_forest.pkl', 'wb'))"
   ]
  },
  {
   "cell_type": "code",
   "execution_count": null,
   "id": "4c77ca36",
   "metadata": {},
   "outputs": [],
   "source": []
  }
 ],
 "metadata": {
  "kernelspec": {
   "display_name": "Python 3 (ipykernel)",
   "language": "python",
   "name": "python3"
  },
  "language_info": {
   "codemirror_mode": {
    "name": "ipython",
    "version": 3
   },
   "file_extension": ".py",
   "mimetype": "text/x-python",
   "name": "python",
   "nbconvert_exporter": "python",
   "pygments_lexer": "ipython3",
   "version": "3.9.10"
  }
 },
 "nbformat": 4,
 "nbformat_minor": 5
}
